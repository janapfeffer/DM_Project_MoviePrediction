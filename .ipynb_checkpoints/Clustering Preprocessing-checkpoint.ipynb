{
 "cells": [
  {
   "cell_type": "markdown",
   "metadata": {},
   "source": [
    "# Clustering Preprocessing\n",
    "Users are clustered based on the genres of the movies they watched (rated). To get this information, the following is done:   \n",
    "1. Extract genres from <i>genres</i> column in the movie metadata (json to one hot encoding)\n",
    "2. merge user ratings and movie metadata\n",
    "3. group user ratings so only one entry per user is retained\n",
    "4. normalize genre values so the sum equals 1 for each user \n",
    "5. discard unneeded columns\n",
    "6. for visualization purposes: transform data to two dimensions \n",
    "\n",
    "Step 1 is already performed in the prediction preprocessing."
   ]
  },
  {
   "cell_type": "code",
   "execution_count": 2,
   "metadata": {},
   "outputs": [
    {
     "data": {
      "text/html": [
       "<style>.container { width:80% !important; }</style>"
      ],
      "text/plain": [
       "<IPython.core.display.HTML object>"
      ]
     },
     "metadata": {},
     "output_type": "display_data"
    }
   ],
   "source": [
    "# change used width of browser window\n",
    "from IPython.core.display import display, HTML\n",
    "display(HTML(\"<style>.container { width:80% !important; }</style>\"))"
   ]
  },
  {
   "cell_type": "code",
   "execution_count": 3,
   "metadata": {},
   "outputs": [],
   "source": [
    "# import packages\n",
    "import pandas as pd\n",
    "import re\n",
    "import json\n",
    "\n",
    "from sklearn.manifold import TSNE as TSNE\n",
    "from sklearn.decomposition import PCA"
   ]
  },
  {
   "cell_type": "markdown",
   "metadata": {},
   "source": [
    "## 1. Load Data"
   ]
  },
  {
   "cell_type": "code",
   "execution_count": 4,
   "metadata": {},
   "outputs": [
    {
     "data": {
      "text/html": [
       "<div>\n",
       "<style scoped>\n",
       "    .dataframe tbody tr th:only-of-type {\n",
       "        vertical-align: middle;\n",
       "    }\n",
       "\n",
       "    .dataframe tbody tr th {\n",
       "        vertical-align: top;\n",
       "    }\n",
       "\n",
       "    .dataframe thead th {\n",
       "        text-align: right;\n",
       "    }\n",
       "</style>\n",
       "<table border=\"1\" class=\"dataframe\">\n",
       "  <thead>\n",
       "    <tr style=\"text-align: right;\">\n",
       "      <th></th>\n",
       "      <th>userId</th>\n",
       "      <th>movieId</th>\n",
       "      <th>rating</th>\n",
       "      <th>timestamp</th>\n",
       "    </tr>\n",
       "  </thead>\n",
       "  <tbody>\n",
       "    <tr>\n",
       "      <td>0</td>\n",
       "      <td>1</td>\n",
       "      <td>110</td>\n",
       "      <td>1.0</td>\n",
       "      <td>1425941529</td>\n",
       "    </tr>\n",
       "    <tr>\n",
       "      <td>1</td>\n",
       "      <td>1</td>\n",
       "      <td>147</td>\n",
       "      <td>4.5</td>\n",
       "      <td>1425942435</td>\n",
       "    </tr>\n",
       "    <tr>\n",
       "      <td>2</td>\n",
       "      <td>1</td>\n",
       "      <td>858</td>\n",
       "      <td>5.0</td>\n",
       "      <td>1425941523</td>\n",
       "    </tr>\n",
       "  </tbody>\n",
       "</table>\n",
       "</div>"
      ],
      "text/plain": [
       "   userId  movieId  rating   timestamp\n",
       "0       1      110     1.0  1425941529\n",
       "1       1      147     4.5  1425942435\n",
       "2       1      858     5.0  1425941523"
      ]
     },
     "metadata": {},
     "output_type": "display_data"
    }
   ],
   "source": [
    "# Load Preprocessed Movie Metadata\n",
    "df_movies = \n",
    "# load user ratings\n",
    "df_ratings = pd.read_csv(\"the-movies-dataset/ratings.csv\")\n",
    "display(df_ratings.head(3))"
   ]
  },
  {
   "cell_type": "markdown",
   "metadata": {},
   "source": [
    "## 2. Merge User Ratings and Movie Metadata "
   ]
  },
  {
   "cell_type": "code",
   "execution_count": null,
   "metadata": {},
   "outputs": [],
   "source": [
    "# join ratings and metadata\n",
    "df_joined = \n",
    " \n",
    "# discard unneeded columns (all except userId and genres)\n",
    "genre_set = {\"userId\"}\n",
    "for index, row in df_movies.iterrows():\n",
    "    genres = json.loads(re.sub(\"'\", '\"',row.genres))\n",
    "    for genre in genres: # turn string to json and loop over genres\n",
    "        genre_set.add(genre.get(\"name\"))        \n",
    "\n",
    "df_joined = df_joined[list(genre_set)]\n",
    "\n",
    "# group values per user and aggregate genres\n",
    "df_joined = df_joined.groupby(\"userId\").sum()\n",
    "\n",
    "# normalize genre values\n",
    "genre_set.remove(\"userId\")\n",
    "df_joined[list(genre_set)] = df_joined[list(genre_set)].div(df_joined[list(genre_set)].sum(axis=1), axis=0)\n",
    "df_joined = df_joined.fillna(0)\n",
    "\n",
    "display(df_joined.head(3))"
   ]
  },
  {
   "cell_type": "code",
   "execution_count": null,
   "metadata": {},
   "outputs": [],
   "source": [
    "# save clustering data as csv\n",
    "df_joined.to_csv(\"userclusterdata.csv\", index=True)"
   ]
  },
  {
   "cell_type": "markdown",
   "metadata": {},
   "source": [
    "## 3. Transform Data "
   ]
  },
  {
   "cell_type": "code",
   "execution_count": null,
   "metadata": {},
   "outputs": [],
   "source": [
    "# pca: principal component analysis\n",
    "a_pca = PCA(n_components=2).fit_transform(df_joined[list(genre_set)])\n",
    "\n",
    "# tsne: t-distributed stochastic neighbor embedding\n",
    "a_tsne = TSNE(n_components=2).fit_transform(df_joined[list(genre_set)])"
   ]
  },
  {
   "cell_type": "code",
   "execution_count": null,
   "metadata": {},
   "outputs": [],
   "source": [
    "# save transformed data as csv file\n",
    "np.savetxt(\"tsne_allgenres.csv\", a_tsne, delimiter=\",\")\n",
    "np.savetxt(\"pca_allgenres.csv\", a_pca, delimiter=\",\")"
   ]
  }
 ],
 "metadata": {
  "kernelspec": {
   "display_name": "Python 3",
   "language": "python",
   "name": "python3"
  },
  "language_info": {
   "codemirror_mode": {
    "name": "ipython",
    "version": 3
   },
   "file_extension": ".py",
   "mimetype": "text/x-python",
   "name": "python",
   "nbconvert_exporter": "python",
   "pygments_lexer": "ipython3",
   "version": "3.7.4"
  }
 },
 "nbformat": 4,
 "nbformat_minor": 2
}
