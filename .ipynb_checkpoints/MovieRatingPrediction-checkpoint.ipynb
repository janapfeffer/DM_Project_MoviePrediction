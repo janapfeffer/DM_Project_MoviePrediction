{
 "cells": [
  {
   "cell_type": "markdown",
   "metadata": {},
   "source": [
    "# Movie Rating Prediction\n",
    "### Based on Metadata and User Clusters"
   ]
  },
  {
   "cell_type": "code",
   "execution_count": 1,
   "metadata": {},
   "outputs": [
    {
     "data": {
      "text/html": [
       "<style>.container { width:80% !important; }</style>"
      ],
      "text/plain": [
       "<IPython.core.display.HTML object>"
      ]
     },
     "metadata": {},
     "output_type": "display_data"
    }
   ],
   "source": [
    "# change used width of browser window\n",
    "from IPython.core.display import display, HTML\n",
    "display(HTML(\"<style>.container { width:80% !important; }</style>\"))"
   ]
  },
  {
   "cell_type": "code",
   "execution_count": 2,
   "metadata": {},
   "outputs": [],
   "source": [
    "# import packages\n",
    "import pandas as pd\n",
    "import re\n",
    "import seaborn as sb\n",
    "import matplotlib.pyplot as plt\n",
    "import datetime"
   ]
  },
  {
   "cell_type": "markdown",
   "metadata": {},
   "source": [
    "## 1. Data Exploration and Quality Estimation\n",
    "### 1.1 User Ratings"
   ]
  },
  {
   "cell_type": "code",
   "execution_count": 3,
   "metadata": {},
   "outputs": [
    {
     "data": {
      "text/html": [
       "<div>\n",
       "<style scoped>\n",
       "    .dataframe tbody tr th:only-of-type {\n",
       "        vertical-align: middle;\n",
       "    }\n",
       "\n",
       "    .dataframe tbody tr th {\n",
       "        vertical-align: top;\n",
       "    }\n",
       "\n",
       "    .dataframe thead th {\n",
       "        text-align: right;\n",
       "    }\n",
       "</style>\n",
       "<table border=\"1\" class=\"dataframe\">\n",
       "  <thead>\n",
       "    <tr style=\"text-align: right;\">\n",
       "      <th></th>\n",
       "      <th>userId</th>\n",
       "      <th>movieId</th>\n",
       "      <th>rating</th>\n",
       "      <th>timestamp</th>\n",
       "    </tr>\n",
       "  </thead>\n",
       "  <tbody>\n",
       "    <tr>\n",
       "      <td>0</td>\n",
       "      <td>1</td>\n",
       "      <td>110</td>\n",
       "      <td>1.0</td>\n",
       "      <td>1425941529</td>\n",
       "    </tr>\n",
       "    <tr>\n",
       "      <td>1</td>\n",
       "      <td>1</td>\n",
       "      <td>147</td>\n",
       "      <td>4.5</td>\n",
       "      <td>1425942435</td>\n",
       "    </tr>\n",
       "    <tr>\n",
       "      <td>2</td>\n",
       "      <td>1</td>\n",
       "      <td>858</td>\n",
       "      <td>5.0</td>\n",
       "      <td>1425941523</td>\n",
       "    </tr>\n",
       "  </tbody>\n",
       "</table>\n",
       "</div>"
      ],
      "text/plain": [
       "   userId  movieId  rating   timestamp\n",
       "0       1      110     1.0  1425941529\n",
       "1       1      147     4.5  1425942435\n",
       "2       1      858     5.0  1425941523"
      ]
     },
     "execution_count": 3,
     "metadata": {},
     "output_type": "execute_result"
    }
   ],
   "source": [
    "# load ratings\n",
    "df_ratings = pd.read_csv(\"the-movies-dataset/ratings.csv\")\n",
    "df_ratings.head(3)"
   ]
  },
  {
   "cell_type": "code",
   "execution_count": 4,
   "metadata": {},
   "outputs": [
    {
     "data": {
      "text/html": [
       "<div>\n",
       "<style scoped>\n",
       "    .dataframe tbody tr th:only-of-type {\n",
       "        vertical-align: middle;\n",
       "    }\n",
       "\n",
       "    .dataframe tbody tr th {\n",
       "        vertical-align: top;\n",
       "    }\n",
       "\n",
       "    .dataframe thead th {\n",
       "        text-align: right;\n",
       "    }\n",
       "</style>\n",
       "<table border=\"1\" class=\"dataframe\">\n",
       "  <thead>\n",
       "    <tr style=\"text-align: right;\">\n",
       "      <th></th>\n",
       "      <th>userId</th>\n",
       "      <th>movieId</th>\n",
       "      <th>rating</th>\n",
       "      <th>timestamp</th>\n",
       "    </tr>\n",
       "  </thead>\n",
       "  <tbody>\n",
       "    <tr>\n",
       "      <td>count</td>\n",
       "      <td>2.602429e+07</td>\n",
       "      <td>2.602429e+07</td>\n",
       "      <td>2.602429e+07</td>\n",
       "      <td>2.602429e+07</td>\n",
       "    </tr>\n",
       "    <tr>\n",
       "      <td>mean</td>\n",
       "      <td>1.350371e+05</td>\n",
       "      <td>1.584911e+04</td>\n",
       "      <td>3.528090e+00</td>\n",
       "      <td>1.171258e+09</td>\n",
       "    </tr>\n",
       "    <tr>\n",
       "      <td>std</td>\n",
       "      <td>7.817620e+04</td>\n",
       "      <td>3.108526e+04</td>\n",
       "      <td>1.065443e+00</td>\n",
       "      <td>2.052889e+08</td>\n",
       "    </tr>\n",
       "    <tr>\n",
       "      <td>min</td>\n",
       "      <td>1.000000e+00</td>\n",
       "      <td>1.000000e+00</td>\n",
       "      <td>5.000000e-01</td>\n",
       "      <td>7.896520e+08</td>\n",
       "    </tr>\n",
       "    <tr>\n",
       "      <td>25%</td>\n",
       "      <td>6.716400e+04</td>\n",
       "      <td>1.073000e+03</td>\n",
       "      <td>3.000000e+00</td>\n",
       "      <td>9.907545e+08</td>\n",
       "    </tr>\n",
       "    <tr>\n",
       "      <td>50%</td>\n",
       "      <td>1.351630e+05</td>\n",
       "      <td>2.583000e+03</td>\n",
       "      <td>3.500000e+00</td>\n",
       "      <td>1.151716e+09</td>\n",
       "    </tr>\n",
       "    <tr>\n",
       "      <td>75%</td>\n",
       "      <td>2.026930e+05</td>\n",
       "      <td>6.503000e+03</td>\n",
       "      <td>4.000000e+00</td>\n",
       "      <td>1.357578e+09</td>\n",
       "    </tr>\n",
       "    <tr>\n",
       "      <td>max</td>\n",
       "      <td>2.708960e+05</td>\n",
       "      <td>1.762750e+05</td>\n",
       "      <td>5.000000e+00</td>\n",
       "      <td>1.501830e+09</td>\n",
       "    </tr>\n",
       "  </tbody>\n",
       "</table>\n",
       "</div>"
      ],
      "text/plain": [
       "             userId       movieId        rating     timestamp\n",
       "count  2.602429e+07  2.602429e+07  2.602429e+07  2.602429e+07\n",
       "mean   1.350371e+05  1.584911e+04  3.528090e+00  1.171258e+09\n",
       "std    7.817620e+04  3.108526e+04  1.065443e+00  2.052889e+08\n",
       "min    1.000000e+00  1.000000e+00  5.000000e-01  7.896520e+08\n",
       "25%    6.716400e+04  1.073000e+03  3.000000e+00  9.907545e+08\n",
       "50%    1.351630e+05  2.583000e+03  3.500000e+00  1.151716e+09\n",
       "75%    2.026930e+05  6.503000e+03  4.000000e+00  1.357578e+09\n",
       "max    2.708960e+05  1.762750e+05  5.000000e+00  1.501830e+09"
      ]
     },
     "execution_count": 4,
     "metadata": {},
     "output_type": "execute_result"
    }
   ],
   "source": [
    "df_ratings.describe()"
   ]
  },
  {
   "cell_type": "markdown",
   "metadata": {},
   "source": [
    "There are no zeros."
   ]
  },
  {
   "cell_type": "code",
   "execution_count": 5,
   "metadata": {
    "scrolled": true
   },
   "outputs": [
    {
     "data": {
      "image/png": "[encoded data removed]",
      "text/plain": [
       "<Figure size 1080x360 with 1 Axes>"
      ]
     },
     "metadata": {},
     "output_type": "display_data"
    }
   ],
   "source": [
    "# create bar chart for rating\n",
    "sb.set(style=\"whitegrid\")\n",
    "sb.set(rc={'figure.figsize':(15,5)})\n",
    "sb.set(font_scale=1)\n",
    "ax = sb.countplot(x=\"rating\", data=df_ratings)\n",
    "ax.axes.set_title(\"Distribution of User Ratings\",fontsize=20)\n",
    "plt.show()"
   ]
  },
  {
   "cell_type": "code",
   "execution_count": 6,
   "metadata": {},
   "outputs": [],
   "source": [
    "# # create bar chart for timestamp\n",
    "# ax = sb.countplot(x=\"timestamp\", data=df_ratings)\n",
    "# ax.axes.set_title(\"Distribution of Timestamps\",fontsize=20)\n",
    "# plt.show()"
   ]
  },
  {
   "cell_type": "markdown",
   "metadata": {},
   "source": [
    "### 1.2 Movie Metadata"
   ]
  },
  {
   "cell_type": "code",
   "execution_count": 7,
   "metadata": {},
   "outputs": [
    {
     "name": "stdout",
     "output_type": "stream",
     "text": [
      "Index(['adult', 'belongs_to_collection', 'budget', 'genres', 'homepage', 'id',\n",
      "       'imdb_id', 'original_language', 'original_title', 'overview',\n",
      "       'popularity', 'poster_path', 'production_companies',\n",
      "       'production_countries', 'release_date', 'revenue', 'runtime',\n",
      "       'spoken_languages', 'status', 'tagline', 'title', 'video',\n",
      "       'vote_average', 'vote_count'],\n",
      "      dtype='object')\n"
     ]
    },
    {
     "name": "stderr",
     "output_type": "stream",
     "text": [
      "C:\\Python37\\lib\\site-packages\\IPython\\core\\interactiveshell.py:3058: DtypeWarning: Columns (10) have mixed types. Specify dtype option on import or set low_memory=False.\n",
      "  interactivity=interactivity, compiler=compiler, result=result)\n"
     ]
    },
    {
     "data": {
      "text/html": [
       "<div>\n",
       "<style scoped>\n",
       "    .dataframe tbody tr th:only-of-type {\n",
       "        vertical-align: middle;\n",
       "    }\n",
       "\n",
       "    .dataframe tbody tr th {\n",
       "        vertical-align: top;\n",
       "    }\n",
       "\n",
       "    .dataframe thead th {\n",
       "        text-align: right;\n",
       "    }\n",
       "</style>\n",
       "<table border=\"1\" class=\"dataframe\">\n",
       "  <thead>\n",
       "    <tr style=\"text-align: right;\">\n",
       "      <th></th>\n",
       "      <th>adult</th>\n",
       "      <th>belongs_to_collection</th>\n",
       "      <th>budget</th>\n",
       "      <th>genres</th>\n",
       "      <th>homepage</th>\n",
       "      <th>id</th>\n",
       "      <th>imdb_id</th>\n",
       "      <th>original_language</th>\n",
       "      <th>original_title</th>\n",
       "      <th>overview</th>\n",
       "      <th>...</th>\n",
       "      <th>release_date</th>\n",
       "      <th>revenue</th>\n",
       "      <th>runtime</th>\n",
       "      <th>spoken_languages</th>\n",
       "      <th>status</th>\n",
       "      <th>tagline</th>\n",
       "      <th>title</th>\n",
       "      <th>video</th>\n",
       "      <th>vote_average</th>\n",
       "      <th>vote_count</th>\n",
       "    </tr>\n",
       "  </thead>\n",
       "  <tbody>\n",
       "    <tr>\n",
       "      <td>0</td>\n",
       "      <td>False</td>\n",
       "      <td>{'id': 10194, 'name': 'Toy Story Collection', ...</td>\n",
       "      <td>30000000</td>\n",
       "      <td>[{'id': 16, 'name': 'Animation'}, {'id': 35, '...</td>\n",
       "      <td>http://toystory.disney.com/toy-story</td>\n",
       "      <td>862</td>\n",
       "      <td>tt0114709</td>\n",
       "      <td>en</td>\n",
       "      <td>Toy Story</td>\n",
       "      <td>Led by Woody, Andy's toys live happily in his ...</td>\n",
       "      <td>...</td>\n",
       "      <td>1995-10-30</td>\n",
       "      <td>373554033.0</td>\n",
       "      <td>81.0</td>\n",
       "      <td>[{'iso_639_1': 'en', 'name': 'English'}]</td>\n",
       "      <td>Released</td>\n",
       "      <td>NaN</td>\n",
       "      <td>Toy Story</td>\n",
       "      <td>False</td>\n",
       "      <td>7.7</td>\n",
       "      <td>5415.0</td>\n",
       "    </tr>\n",
       "    <tr>\n",
       "      <td>1</td>\n",
       "      <td>False</td>\n",
       "      <td>NaN</td>\n",
       "      <td>65000000</td>\n",
       "      <td>[{'id': 12, 'name': 'Adventure'}, {'id': 14, '...</td>\n",
       "      <td>NaN</td>\n",
       "      <td>8844</td>\n",
       "      <td>tt0113497</td>\n",
       "      <td>en</td>\n",
       "      <td>Jumanji</td>\n",
       "      <td>When siblings Judy and Peter discover an encha...</td>\n",
       "      <td>...</td>\n",
       "      <td>1995-12-15</td>\n",
       "      <td>262797249.0</td>\n",
       "      <td>104.0</td>\n",
       "      <td>[{'iso_639_1': 'en', 'name': 'English'}, {'iso...</td>\n",
       "      <td>Released</td>\n",
       "      <td>Roll the dice and unleash the excitement!</td>\n",
       "      <td>Jumanji</td>\n",
       "      <td>False</td>\n",
       "      <td>6.9</td>\n",
       "      <td>2413.0</td>\n",
       "    </tr>\n",
       "    <tr>\n",
       "      <td>2</td>\n",
       "      <td>False</td>\n",
       "      <td>{'id': 119050, 'name': 'Grumpy Old Men Collect...</td>\n",
       "      <td>0</td>\n",
       "      <td>[{'id': 10749, 'name': 'Romance'}, {'id': 35, ...</td>\n",
       "      <td>NaN</td>\n",
       "      <td>15602</td>\n",
       "      <td>tt0113228</td>\n",
       "      <td>en</td>\n",
       "      <td>Grumpier Old Men</td>\n",
       "      <td>A family wedding reignites the ancient feud be...</td>\n",
       "      <td>...</td>\n",
       "      <td>1995-12-22</td>\n",
       "      <td>0.0</td>\n",
       "      <td>101.0</td>\n",
       "      <td>[{'iso_639_1': 'en', 'name': 'English'}]</td>\n",
       "      <td>Released</td>\n",
       "      <td>Still Yelling. Still Fighting. Still Ready for...</td>\n",
       "      <td>Grumpier Old Men</td>\n",
       "      <td>False</td>\n",
       "      <td>6.5</td>\n",
       "      <td>92.0</td>\n",
       "    </tr>\n",
       "  </tbody>\n",
       "</table>\n",
       "<p>3 rows × 24 columns</p>\n",
       "</div>"
      ],
      "text/plain": [
       "   adult                              belongs_to_collection    budget  \\\n",
       "0  False  {'id': 10194, 'name': 'Toy Story Collection', ...  30000000   \n",
       "1  False                                                NaN  65000000   \n",
       "2  False  {'id': 119050, 'name': 'Grumpy Old Men Collect...         0   \n",
       "\n",
       "                                              genres  \\\n",
       "0  [{'id': 16, 'name': 'Animation'}, {'id': 35, '...   \n",
       "1  [{'id': 12, 'name': 'Adventure'}, {'id': 14, '...   \n",
       "2  [{'id': 10749, 'name': 'Romance'}, {'id': 35, ...   \n",
       "\n",
       "                               homepage     id    imdb_id original_language  \\\n",
       "0  http://toystory.disney.com/toy-story    862  tt0114709                en   \n",
       "1                                   NaN   8844  tt0113497                en   \n",
       "2                                   NaN  15602  tt0113228                en   \n",
       "\n",
       "     original_title                                           overview  ...  \\\n",
       "0         Toy Story  Led by Woody, Andy's toys live happily in his ...  ...   \n",
       "1           Jumanji  When siblings Judy and Peter discover an encha...  ...   \n",
       "2  Grumpier Old Men  A family wedding reignites the ancient feud be...  ...   \n",
       "\n",
       "  release_date      revenue runtime  \\\n",
       "0   1995-10-30  373554033.0    81.0   \n",
       "1   1995-12-15  262797249.0   104.0   \n",
       "2   1995-12-22          0.0   101.0   \n",
       "\n",
       "                                    spoken_languages    status  \\\n",
       "0           [{'iso_639_1': 'en', 'name': 'English'}]  Released   \n",
       "1  [{'iso_639_1': 'en', 'name': 'English'}, {'iso...  Released   \n",
       "2           [{'iso_639_1': 'en', 'name': 'English'}]  Released   \n",
       "\n",
       "                                             tagline             title  video  \\\n",
       "0                                                NaN         Toy Story  False   \n",
       "1          Roll the dice and unleash the excitement!           Jumanji  False   \n",
       "2  Still Yelling. Still Fighting. Still Ready for...  Grumpier Old Men  False   \n",
       "\n",
       "  vote_average vote_count  \n",
       "0          7.7     5415.0  \n",
       "1          6.9     2413.0  \n",
       "2          6.5       92.0  \n",
       "\n",
       "[3 rows x 24 columns]"
      ]
     },
     "execution_count": 7,
     "metadata": {},
     "output_type": "execute_result"
    }
   ],
   "source": [
    "# load movies metadata\n",
    "df_movies = pd.read_csv(\"the-movies-dataset/movies_metadata.csv\")\n",
    "print(df_movies.columns)\n",
    "df_movies.head(3)"
   ]
  },
  {
   "cell_type": "code",
   "execution_count": 8,
   "metadata": {},
   "outputs": [
    {
     "data": {
      "text/html": [
       "<div>\n",
       "<style scoped>\n",
       "    .dataframe tbody tr th:only-of-type {\n",
       "        vertical-align: middle;\n",
       "    }\n",
       "\n",
       "    .dataframe tbody tr th {\n",
       "        vertical-align: top;\n",
       "    }\n",
       "\n",
       "    .dataframe thead th {\n",
       "        text-align: right;\n",
       "    }\n",
       "</style>\n",
       "<table border=\"1\" class=\"dataframe\">\n",
       "  <thead>\n",
       "    <tr style=\"text-align: right;\">\n",
       "      <th></th>\n",
       "      <th>revenue</th>\n",
       "      <th>runtime</th>\n",
       "      <th>vote_average</th>\n",
       "      <th>vote_count</th>\n",
       "    </tr>\n",
       "  </thead>\n",
       "  <tbody>\n",
       "    <tr>\n",
       "      <td>count</td>\n",
       "      <td>4.546000e+04</td>\n",
       "      <td>45203.000000</td>\n",
       "      <td>45460.000000</td>\n",
       "      <td>45460.000000</td>\n",
       "    </tr>\n",
       "    <tr>\n",
       "      <td>mean</td>\n",
       "      <td>1.120935e+07</td>\n",
       "      <td>94.128199</td>\n",
       "      <td>5.618207</td>\n",
       "      <td>109.897338</td>\n",
       "    </tr>\n",
       "    <tr>\n",
       "      <td>std</td>\n",
       "      <td>6.433225e+07</td>\n",
       "      <td>38.407810</td>\n",
       "      <td>1.924216</td>\n",
       "      <td>491.310374</td>\n",
       "    </tr>\n",
       "    <tr>\n",
       "      <td>min</td>\n",
       "      <td>0.000000e+00</td>\n",
       "      <td>0.000000</td>\n",
       "      <td>0.000000</td>\n",
       "      <td>0.000000</td>\n",
       "    </tr>\n",
       "    <tr>\n",
       "      <td>25%</td>\n",
       "      <td>0.000000e+00</td>\n",
       "      <td>85.000000</td>\n",
       "      <td>5.000000</td>\n",
       "      <td>3.000000</td>\n",
       "    </tr>\n",
       "    <tr>\n",
       "      <td>50%</td>\n",
       "      <td>0.000000e+00</td>\n",
       "      <td>95.000000</td>\n",
       "      <td>6.000000</td>\n",
       "      <td>10.000000</td>\n",
       "    </tr>\n",
       "    <tr>\n",
       "      <td>75%</td>\n",
       "      <td>0.000000e+00</td>\n",
       "      <td>107.000000</td>\n",
       "      <td>6.800000</td>\n",
       "      <td>34.000000</td>\n",
       "    </tr>\n",
       "    <tr>\n",
       "      <td>max</td>\n",
       "      <td>2.787965e+09</td>\n",
       "      <td>1256.000000</td>\n",
       "      <td>10.000000</td>\n",
       "      <td>14075.000000</td>\n",
       "    </tr>\n",
       "  </tbody>\n",
       "</table>\n",
       "</div>"
      ],
      "text/plain": [
       "            revenue       runtime  vote_average    vote_count\n",
       "count  4.546000e+04  45203.000000  45460.000000  45460.000000\n",
       "mean   1.120935e+07     94.128199      5.618207    109.897338\n",
       "std    6.433225e+07     38.407810      1.924216    491.310374\n",
       "min    0.000000e+00      0.000000      0.000000      0.000000\n",
       "25%    0.000000e+00     85.000000      5.000000      3.000000\n",
       "50%    0.000000e+00     95.000000      6.000000     10.000000\n",
       "75%    0.000000e+00    107.000000      6.800000     34.000000\n",
       "max    2.787965e+09   1256.000000     10.000000  14075.000000"
      ]
     },
     "execution_count": 8,
     "metadata": {},
     "output_type": "execute_result"
    }
   ],
   "source": [
    "df_movies.describe()"
   ]
  },
  {
   "cell_type": "markdown",
   "metadata": {},
   "source": [
    "There are missing values in revenue, runtime, vote_average and vote_count that are represented with a value of 0."
   ]
  },
  {
   "cell_type": "code",
   "execution_count": 9,
   "metadata": {},
   "outputs": [
    {
     "data": {
      "text/html": [
       "<div>\n",
       "<style scoped>\n",
       "    .dataframe tbody tr th:only-of-type {\n",
       "        vertical-align: middle;\n",
       "    }\n",
       "\n",
       "    .dataframe tbody tr th {\n",
       "        vertical-align: top;\n",
       "    }\n",
       "\n",
       "    .dataframe thead th {\n",
       "        text-align: right;\n",
       "    }\n",
       "</style>\n",
       "<table border=\"1\" class=\"dataframe\">\n",
       "  <thead>\n",
       "    <tr style=\"text-align: right;\">\n",
       "      <th></th>\n",
       "      <th>id</th>\n",
       "    </tr>\n",
       "    <tr>\n",
       "      <th>status</th>\n",
       "      <th></th>\n",
       "    </tr>\n",
       "  </thead>\n",
       "  <tbody>\n",
       "    <tr>\n",
       "      <td>Released</td>\n",
       "      <td>45014</td>\n",
       "    </tr>\n",
       "    <tr>\n",
       "      <td>Rumored</td>\n",
       "      <td>230</td>\n",
       "    </tr>\n",
       "    <tr>\n",
       "      <td>Post Production</td>\n",
       "      <td>98</td>\n",
       "    </tr>\n",
       "    <tr>\n",
       "      <td>In Production</td>\n",
       "      <td>20</td>\n",
       "    </tr>\n",
       "    <tr>\n",
       "      <td>Planned</td>\n",
       "      <td>15</td>\n",
       "    </tr>\n",
       "    <tr>\n",
       "      <td>Canceled</td>\n",
       "      <td>2</td>\n",
       "    </tr>\n",
       "  </tbody>\n",
       "</table>\n",
       "</div>"
      ],
      "text/plain": [
       "                    id\n",
       "status                \n",
       "Released         45014\n",
       "Rumored            230\n",
       "Post Production     98\n",
       "In Production       20\n",
       "Planned             15\n",
       "Canceled             2"
      ]
     },
     "execution_count": 9,
     "metadata": {},
     "output_type": "execute_result"
    }
   ],
   "source": [
    "df_movies[[\"status\", \"id\"]].groupby(\"status\").count().sort_values(\"id\", ascending=False)"
   ]
  },
  {
   "cell_type": "markdown",
   "metadata": {},
   "source": [
    "Some of the movies included in the data set have not been released yet. Since we are interested in movies that have been watched by people, we can discard movies with a status that is not \"Released\"."
   ]
  },
  {
   "cell_type": "code",
   "execution_count": 10,
   "metadata": {},
   "outputs": [
    {
     "data": {
      "text/html": [
       "<div>\n",
       "<style scoped>\n",
       "    .dataframe tbody tr th:only-of-type {\n",
       "        vertical-align: middle;\n",
       "    }\n",
       "\n",
       "    .dataframe tbody tr th {\n",
       "        vertical-align: top;\n",
       "    }\n",
       "\n",
       "    .dataframe thead th {\n",
       "        text-align: right;\n",
       "    }\n",
       "</style>\n",
       "<table border=\"1\" class=\"dataframe\">\n",
       "  <thead>\n",
       "    <tr style=\"text-align: right;\">\n",
       "      <th></th>\n",
       "      <th>id</th>\n",
       "    </tr>\n",
       "    <tr>\n",
       "      <th>video</th>\n",
       "      <th></th>\n",
       "    </tr>\n",
       "  </thead>\n",
       "  <tbody>\n",
       "    <tr>\n",
       "      <td>False</td>\n",
       "      <td>45367</td>\n",
       "    </tr>\n",
       "    <tr>\n",
       "      <td>True</td>\n",
       "      <td>93</td>\n",
       "    </tr>\n",
       "  </tbody>\n",
       "</table>\n",
       "</div>"
      ],
      "text/plain": [
       "          id\n",
       "video       \n",
       "False  45367\n",
       "True      93"
      ]
     },
     "execution_count": 10,
     "metadata": {},
     "output_type": "execute_result"
    }
   ],
   "source": [
    "df_movies[[\"video\", \"id\"]].groupby(\"video\").count().sort_values(\"id\", ascending=False)"
   ]
  },
  {
   "cell_type": "code",
   "execution_count": 11,
   "metadata": {},
   "outputs": [
    {
     "data": {
      "text/html": [
       "<div>\n",
       "<style scoped>\n",
       "    .dataframe tbody tr th:only-of-type {\n",
       "        vertical-align: middle;\n",
       "    }\n",
       "\n",
       "    .dataframe tbody tr th {\n",
       "        vertical-align: top;\n",
       "    }\n",
       "\n",
       "    .dataframe thead th {\n",
       "        text-align: right;\n",
       "    }\n",
       "</style>\n",
       "<table border=\"1\" class=\"dataframe\">\n",
       "  <thead>\n",
       "    <tr style=\"text-align: right;\">\n",
       "      <th></th>\n",
       "      <th>id</th>\n",
       "    </tr>\n",
       "    <tr>\n",
       "      <th>production_countries</th>\n",
       "      <th></th>\n",
       "    </tr>\n",
       "  </thead>\n",
       "  <tbody>\n",
       "    <tr>\n",
       "      <td>[{'iso_3166_1': 'US', 'name': 'United States of America'}]</td>\n",
       "      <td>17851</td>\n",
       "    </tr>\n",
       "    <tr>\n",
       "      <td>[]</td>\n",
       "      <td>6282</td>\n",
       "    </tr>\n",
       "    <tr>\n",
       "      <td>[{'iso_3166_1': 'GB', 'name': 'United Kingdom'}]</td>\n",
       "      <td>2238</td>\n",
       "    </tr>\n",
       "    <tr>\n",
       "      <td>[{'iso_3166_1': 'FR', 'name': 'France'}]</td>\n",
       "      <td>1654</td>\n",
       "    </tr>\n",
       "    <tr>\n",
       "      <td>[{'iso_3166_1': 'JP', 'name': 'Japan'}]</td>\n",
       "      <td>1356</td>\n",
       "    </tr>\n",
       "    <tr>\n",
       "      <td>...</td>\n",
       "      <td>...</td>\n",
       "    </tr>\n",
       "    <tr>\n",
       "      <td>[{'iso_3166_1': 'ES', 'name': 'Spain'}, {'iso_3166_1': 'IE', 'name': 'Ireland'}, {'iso_3166_1': 'IT', 'name': 'Italy'}]</td>\n",
       "      <td>1</td>\n",
       "    </tr>\n",
       "    <tr>\n",
       "      <td>[{'iso_3166_1': 'ES', 'name': 'Spain'}, {'iso_3166_1': 'GB', 'name': 'United Kingdom'}, {'iso_3166_1': 'US', 'name': 'United States of America'}, {'iso_3166_1': 'FR', 'name': 'France'}]</td>\n",
       "      <td>1</td>\n",
       "    </tr>\n",
       "    <tr>\n",
       "      <td>[{'iso_3166_1': 'ES', 'name': 'Spain'}, {'iso_3166_1': 'GB', 'name': 'United Kingdom'}, {'iso_3166_1': 'US', 'name': 'United States of America'}, {'iso_3166_1': 'CA', 'name': 'Canada'}]</td>\n",
       "      <td>1</td>\n",
       "    </tr>\n",
       "    <tr>\n",
       "      <td>[{'iso_3166_1': 'ES', 'name': 'Spain'}, {'iso_3166_1': 'GB', 'name': 'United Kingdom'}, {'iso_3166_1': 'IT', 'name': 'Italy'}, {'iso_3166_1': 'US', 'name': 'United States of America'}]</td>\n",
       "      <td>1</td>\n",
       "    </tr>\n",
       "    <tr>\n",
       "      <td>[{'iso_3166_1': 'FR', 'name': 'France'}, {'iso_3166_1': 'LU', 'name': 'Luxembourg'}, {'iso_3166_1': 'GB', 'name': 'United Kingdom'}]</td>\n",
       "      <td>1</td>\n",
       "    </tr>\n",
       "  </tbody>\n",
       "</table>\n",
       "<p>2393 rows × 1 columns</p>\n",
       "</div>"
      ],
      "text/plain": [
       "                                                       id\n",
       "production_countries                                     \n",
       "[{'iso_3166_1': 'US', 'name': 'United States of...  17851\n",
       "[]                                                   6282\n",
       "[{'iso_3166_1': 'GB', 'name': 'United Kingdom'}]     2238\n",
       "[{'iso_3166_1': 'FR', 'name': 'France'}]             1654\n",
       "[{'iso_3166_1': 'JP', 'name': 'Japan'}]              1356\n",
       "...                                                   ...\n",
       "[{'iso_3166_1': 'ES', 'name': 'Spain'}, {'iso_3...      1\n",
       "[{'iso_3166_1': 'ES', 'name': 'Spain'}, {'iso_3...      1\n",
       "[{'iso_3166_1': 'ES', 'name': 'Spain'}, {'iso_3...      1\n",
       "[{'iso_3166_1': 'ES', 'name': 'Spain'}, {'iso_3...      1\n",
       "[{'iso_3166_1': 'FR', 'name': 'France'}, {'iso_...      1\n",
       "\n",
       "[2393 rows x 1 columns]"
      ]
     },
     "execution_count": 11,
     "metadata": {},
     "output_type": "execute_result"
    }
   ],
   "source": [
    "df_movies[[\"production_countries\", \"id\"]].groupby(\"production_countries\").count().sort_values(\"id\", ascending=False)"
   ]
  },
  {
   "cell_type": "markdown",
   "metadata": {},
   "source": [
    "A movie can be produced in several countries, that makes it reasonable to apply one hot encoding."
   ]
  },
  {
   "cell_type": "code",
   "execution_count": 12,
   "metadata": {},
   "outputs": [
    {
     "data": {
      "text/html": [
       "<div>\n",
       "<style scoped>\n",
       "    .dataframe tbody tr th:only-of-type {\n",
       "        vertical-align: middle;\n",
       "    }\n",
       "\n",
       "    .dataframe tbody tr th {\n",
       "        vertical-align: top;\n",
       "    }\n",
       "\n",
       "    .dataframe thead th {\n",
       "        text-align: right;\n",
       "    }\n",
       "</style>\n",
       "<table border=\"1\" class=\"dataframe\">\n",
       "  <thead>\n",
       "    <tr style=\"text-align: right;\">\n",
       "      <th></th>\n",
       "      <th>id</th>\n",
       "    </tr>\n",
       "    <tr>\n",
       "      <th>production_companies</th>\n",
       "      <th></th>\n",
       "    </tr>\n",
       "  </thead>\n",
       "  <tbody>\n",
       "    <tr>\n",
       "      <td>[]</td>\n",
       "      <td>11875</td>\n",
       "    </tr>\n",
       "    <tr>\n",
       "      <td>[{'name': 'Metro-Goldwyn-Mayer (MGM)', 'id': 8411}]</td>\n",
       "      <td>742</td>\n",
       "    </tr>\n",
       "    <tr>\n",
       "      <td>[{'name': 'Warner Bros.', 'id': 6194}]</td>\n",
       "      <td>540</td>\n",
       "    </tr>\n",
       "    <tr>\n",
       "      <td>[{'name': 'Paramount Pictures', 'id': 4}]</td>\n",
       "      <td>505</td>\n",
       "    </tr>\n",
       "    <tr>\n",
       "      <td>[{'name': 'Twentieth Century Fox Film Corporation', 'id': 306}]</td>\n",
       "      <td>439</td>\n",
       "    </tr>\n",
       "    <tr>\n",
       "      <td>...</td>\n",
       "      <td>...</td>\n",
       "    </tr>\n",
       "    <tr>\n",
       "      <td>[{'name': 'Future Film Group', 'id': 777}, {'name': 'Mikado Film', 'id': 11912}, {'name': 'DeA Planeta Home Entertainment', 'id': 21138}, {'name': 'Feelmax', 'id': 68655}, {'name': 'Carolina Films', 'id': 68656}]</td>\n",
       "      <td>1</td>\n",
       "    </tr>\n",
       "    <tr>\n",
       "      <td>[{'name': 'Future Film Group', 'id': 777}, {'name': 'Mediapro', 'id': 12010}]</td>\n",
       "      <td>1</td>\n",
       "    </tr>\n",
       "    <tr>\n",
       "      <td>[{'name': 'Future Film Group', 'id': 777}, {'name': 'Future Films', 'id': 71496}, {'name': 'DRAX audio', 'id': 71497}]</td>\n",
       "      <td>1</td>\n",
       "    </tr>\n",
       "    <tr>\n",
       "      <td>[{'name': 'Fury Productions', 'id': 6842}, {'name': 'XYZ Films', 'id': 12142}, {'name': 'RatPac Documentary Films', 'id': 40260}]</td>\n",
       "      <td>1</td>\n",
       "    </tr>\n",
       "    <tr>\n",
       "      <td>[{'name': '프로덕션M', 'id': 19104}]</td>\n",
       "      <td>1</td>\n",
       "    </tr>\n",
       "  </tbody>\n",
       "</table>\n",
       "<p>22708 rows × 1 columns</p>\n",
       "</div>"
      ],
      "text/plain": [
       "                                                       id\n",
       "production_companies                                     \n",
       "[]                                                  11875\n",
       "[{'name': 'Metro-Goldwyn-Mayer (MGM)', 'id': 84...    742\n",
       "[{'name': 'Warner Bros.', 'id': 6194}]                540\n",
       "[{'name': 'Paramount Pictures', 'id': 4}]             505\n",
       "[{'name': 'Twentieth Century Fox Film Corporati...    439\n",
       "...                                                   ...\n",
       "[{'name': 'Future Film Group', 'id': 777}, {'na...      1\n",
       "[{'name': 'Future Film Group', 'id': 777}, {'na...      1\n",
       "[{'name': 'Future Film Group', 'id': 777}, {'na...      1\n",
       "[{'name': 'Fury Productions', 'id': 6842}, {'na...      1\n",
       "[{'name': '프로덕션M', 'id': 19104}]                        1\n",
       "\n",
       "[22708 rows x 1 columns]"
      ]
     },
     "execution_count": 12,
     "metadata": {},
     "output_type": "execute_result"
    }
   ],
   "source": [
    "df_movies[[\"production_companies\", \"id\"]].groupby(\"production_companies\").count().sort_values(\"id\", ascending=False)"
   ]
  },
  {
   "cell_type": "markdown",
   "metadata": {},
   "source": [
    "A movie can be produced by several companies, that makes it reasonable to apply one hot encoding."
   ]
  },
  {
   "cell_type": "code",
   "execution_count": 13,
   "metadata": {},
   "outputs": [
    {
     "data": {
      "image/png": "[encoded data removed]",
      "text/plain": [
       "<Figure size 1080x360 with 1 Axes>"
      ]
     },
     "metadata": {},
     "output_type": "display_data"
    }
   ],
   "source": [
    "# create bar chart for vote average\n",
    "ax = sb.countplot(x=\"vote_average\", data=df_movies)\n",
    "for item in ax.get_xticklabels():\n",
    "    item.set_rotation(90)\n",
    "ax.axes.set_title(\"Distribution of Movie Ratings\",fontsize=20)\n",
    "plt.show()"
   ]
  },
  {
   "cell_type": "code",
   "execution_count": 44,
   "metadata": {},
   "outputs": [
    {
     "data": {
      "image/png": "[encoded data removed]",
      "text/plain": [
       "<Figure size 1080x360 with 1 Axes>"
      ]
     },
     "metadata": {},
     "output_type": "display_data"
    }
   ],
   "source": [
    "ax = sb.boxplot(x=\"vote_count\", data=df_movies)\n",
    "ax.axes.set_title(\"Distribution of Vote Count\",fontsize=20)\n",
    "plt.show()"
   ]
  },
  {
   "cell_type": "code",
   "execution_count": 45,
   "metadata": {},
   "outputs": [
    {
     "data": {
      "text/plain": [
       "count    45014.000000\n",
       "mean       110.890812\n",
       "std        493.629119\n",
       "min          0.000000\n",
       "25%          3.000000\n",
       "50%         10.000000\n",
       "75%         35.000000\n",
       "max      14075.000000\n",
       "Name: vote_count, dtype: float64"
      ]
     },
     "execution_count": 45,
     "metadata": {},
     "output_type": "execute_result"
    }
   ],
   "source": [
    "df_movies[\"vote_count\"].describe()"
   ]
  },
  {
   "cell_type": "markdown",
   "metadata": {},
   "source": [
    "### 1.3 Cast: Actors in Movies"
   ]
  },
  {
   "cell_type": "code",
   "execution_count": 14,
   "metadata": {},
   "outputs": [
    {
     "data": {
      "text/html": [
       "<div>\n",
       "<style scoped>\n",
       "    .dataframe tbody tr th:only-of-type {\n",
       "        vertical-align: middle;\n",
       "    }\n",
       "\n",
       "    .dataframe tbody tr th {\n",
       "        vertical-align: top;\n",
       "    }\n",
       "\n",
       "    .dataframe thead th {\n",
       "        text-align: right;\n",
       "    }\n",
       "</style>\n",
       "<table border=\"1\" class=\"dataframe\">\n",
       "  <thead>\n",
       "    <tr style=\"text-align: right;\">\n",
       "      <th></th>\n",
       "      <th>cast</th>\n",
       "      <th>crew</th>\n",
       "      <th>id</th>\n",
       "    </tr>\n",
       "  </thead>\n",
       "  <tbody>\n",
       "    <tr>\n",
       "      <td>0</td>\n",
       "      <td>[{'cast_id': 14, 'character': 'Woody (voice)',...</td>\n",
       "      <td>[{'credit_id': '52fe4284c3a36847f8024f49', 'de...</td>\n",
       "      <td>862</td>\n",
       "    </tr>\n",
       "    <tr>\n",
       "      <td>1</td>\n",
       "      <td>[{'cast_id': 1, 'character': 'Alan Parrish', '...</td>\n",
       "      <td>[{'credit_id': '52fe44bfc3a36847f80a7cd1', 'de...</td>\n",
       "      <td>8844</td>\n",
       "    </tr>\n",
       "    <tr>\n",
       "      <td>2</td>\n",
       "      <td>[{'cast_id': 2, 'character': 'Max Goldman', 'c...</td>\n",
       "      <td>[{'credit_id': '52fe466a9251416c75077a89', 'de...</td>\n",
       "      <td>15602</td>\n",
       "    </tr>\n",
       "  </tbody>\n",
       "</table>\n",
       "</div>"
      ],
      "text/plain": [
       "                                                cast  \\\n",
       "0  [{'cast_id': 14, 'character': 'Woody (voice)',...   \n",
       "1  [{'cast_id': 1, 'character': 'Alan Parrish', '...   \n",
       "2  [{'cast_id': 2, 'character': 'Max Goldman', 'c...   \n",
       "\n",
       "                                                crew     id  \n",
       "0  [{'credit_id': '52fe4284c3a36847f8024f49', 'de...    862  \n",
       "1  [{'credit_id': '52fe44bfc3a36847f80a7cd1', 'de...   8844  \n",
       "2  [{'credit_id': '52fe466a9251416c75077a89', 'de...  15602  "
      ]
     },
     "execution_count": 14,
     "metadata": {},
     "output_type": "execute_result"
    }
   ],
   "source": [
    "# load credits\n",
    "df_cast = pd.read_csv(\"the-movies-dataset/credits.csv\")\n",
    "df_cast.head(3)"
   ]
  },
  {
   "cell_type": "code",
   "execution_count": 15,
   "metadata": {},
   "outputs": [
    {
     "data": {
      "text/plain": [
       "'[{\\'credit_id\\': \\'52fe4284c3a36847f8024f49\\', \\'department\\': \\'Directing\\', \\'gender\\': 2, \\'id\\': 7879, \\'job\\': \\'Director\\', \\'name\\': \\'John Lasseter\\', \\'profile_path\\': \\'/7EdqiNbr4FRjIhKHyPPdFfEEEFG.jpg\\'}, {\\'credit_id\\': \\'52fe4284c3a36847f8024f4f\\', \\'department\\': \\'Writing\\', \\'gender\\': 2, \\'id\\': 12891, \\'job\\': \\'Screenplay\\', \\'name\\': \\'Joss Whedon\\', \\'profile_path\\': \\'/dTiVsuaTVTeGmvkhcyJvKp2A5kr.jpg\\'}, {\\'credit_id\\': \\'52fe4284c3a36847f8024f55\\', \\'department\\': \\'Writing\\', \\'gender\\': 2, \\'id\\': 7, \\'job\\': \\'Screenplay\\', \\'name\\': \\'Andrew Stanton\\', \\'profile_path\\': \\'/pvQWsu0qc8JFQhMVJkTHuexUAa1.jpg\\'}, {\\'credit_id\\': \\'52fe4284c3a36847f8024f5b\\', \\'department\\': \\'Writing\\', \\'gender\\': 2, \\'id\\': 12892, \\'job\\': \\'Screenplay\\', \\'name\\': \\'Joel Cohen\\', \\'profile_path\\': \\'/dAubAiZcvKFbboWlj7oXOkZnTSu.jpg\\'}, {\\'credit_id\\': \\'52fe4284c3a36847f8024f61\\', \\'department\\': \\'Writing\\', \\'gender\\': 0, \\'id\\': 12893, \\'job\\': \\'Screenplay\\', \\'name\\': \\'Alec Sokolow\\', \\'profile_path\\': \\'/v79vlRYi94BZUQnkkyznbGUZLjT.jpg\\'}, {\\'credit_id\\': \\'52fe4284c3a36847f8024f67\\', \\'department\\': \\'Production\\', \\'gender\\': 1, \\'id\\': 12894, \\'job\\': \\'Producer\\', \\'name\\': \\'Bonnie Arnold\\', \\'profile_path\\': None}, {\\'credit_id\\': \\'52fe4284c3a36847f8024f6d\\', \\'department\\': \\'Production\\', \\'gender\\': 0, \\'id\\': 12895, \\'job\\': \\'Executive Producer\\', \\'name\\': \\'Ed Catmull\\', \\'profile_path\\': None}, {\\'credit_id\\': \\'52fe4284c3a36847f8024f73\\', \\'department\\': \\'Production\\', \\'gender\\': 2, \\'id\\': 12896, \\'job\\': \\'Producer\\', \\'name\\': \\'Ralph Guggenheim\\', \\'profile_path\\': None}, {\\'credit_id\\': \\'52fe4284c3a36847f8024f79\\', \\'department\\': \\'Production\\', \\'gender\\': 2, \\'id\\': 12897, \\'job\\': \\'Executive Producer\\', \\'name\\': \\'Steve Jobs\\', \\'profile_path\\': \\'/mOMP3SwD5qWQSR0ldCIByd3guTV.jpg\\'}, {\\'credit_id\\': \\'52fe4284c3a36847f8024f8b\\', \\'department\\': \\'Editing\\', \\'gender\\': 2, \\'id\\': 8, \\'job\\': \\'Editor\\', \\'name\\': \\'Lee Unkrich\\', \\'profile_path\\': \\'/bdTCCXjgOV3YyaNmLGYGOxFQMOc.jpg\\'}, {\\'credit_id\\': \\'52fe4284c3a36847f8024f91\\', \\'department\\': \\'Art\\', \\'gender\\': 2, \\'id\\': 7883, \\'job\\': \\'Art Direction\\', \\'name\\': \\'Ralph Eggleston\\', \\'profile_path\\': \\'/uUfcGKDsKO1aROMpXRs67Hn6RvR.jpg\\'}, {\\'credit_id\\': \\'598331bf925141421201044b\\', \\'department\\': \\'Editing\\', \\'gender\\': 2, \\'id\\': 1168870, \\'job\\': \\'Editor\\', \\'name\\': \\'Robert Gordon\\', \\'profile_path\\': None}, {\\'credit_id\\': \\'5892168cc3a36809660095f9\\', \\'department\\': \\'Sound\\', \\'gender\\': 0, \\'id\\': 1552883, \\'job\\': \\'Foley Editor\\', \\'name\\': \\'Mary Helen Leasman\\', \\'profile_path\\': None}, {\\'credit_id\\': \\'5531824d9251415289000945\\', \\'department\\': \\'Visual Effects\\', \\'gender\\': 0, \\'id\\': 1453514, \\'job\\': \\'Animation\\', \\'name\\': \\'Kim Blanchette\\', \\'profile_path\\': None}, {\\'credit_id\\': \\'589215969251412dcb009bf6\\', \\'department\\': \\'Sound\\', \\'gender\\': 0, \\'id\\': 1414182, \\'job\\': \\'ADR Editor\\', \\'name\\': \\'Marilyn McCoppen\\', \\'profile_path\\': None}, {\\'credit_id\\': \\'589217099251412dc500a018\\', \\'department\\': \\'Sound\\', \\'gender\\': 2, \\'id\\': 7885, \\'job\\': \\'Orchestrator\\', \\'name\\': \\'Randy Newman\\', \\'profile_path\\': \\'/w0JzfoiM25nrnxYOzosPHRq6mlE.jpg\\'}, {\\'credit_id\\': \\'5693e6b29251417b0e0000e3\\', \\'department\\': \\'Editing\\', \\'gender\\': 0, \\'id\\': 1429549, \\'job\\': \\'Color Timer\\', \\'name\\': \\'Dale E. Grahn\\', \\'profile_path\\': None}, {\\'credit_id\\': \\'572e2522c3a36869e6001a9c\\', \\'department\\': \\'Visual Effects\\', \\'gender\\': 0, \\'id\\': 7949, \\'job\\': \\'CG Painter\\', \\'name\\': \\'Robin Cooper\\', \\'profile_path\\': None}, {\\'credit_id\\': \\'574f12309251415ca1000012\\', \\'department\\': \\'Writing\\', \\'gender\\': 2, \\'id\\': 7879, \\'job\\': \\'Original Story\\', \\'name\\': \\'John Lasseter\\', \\'profile_path\\': \\'/7EdqiNbr4FRjIhKHyPPdFfEEEFG.jpg\\'}, {\\'credit_id\\': \\'574f1240c3a3682e7300001c\\', \\'department\\': \\'Writing\\', \\'gender\\': 2, \\'id\\': 12890, \\'job\\': \\'Original Story\\', \\'name\\': \\'Pete Docter\\', \\'profile_path\\': \\'/r6ngPgnReA3RHmKjmSoVsc6Awjp.jpg\\'}, {\\'credit_id\\': \\'574f12519251415c92000015\\', \\'department\\': \\'Writing\\', \\'gender\\': 0, \\'id\\': 7911, \\'job\\': \\'Original Story\\', \\'name\\': \\'Joe Ranft\\', \\'profile_path\\': \\'/f1BoWC2JbCcfP1e5hKfGsxkHzVU.jpg\\'}, {\\'credit_id\\': \\'574f12cec3a3682e82000022\\', \\'department\\': \\'Crew\\', \\'gender\\': 0, \\'id\\': 1629419, \\'job\\': \\'Post Production Supervisor\\', \\'name\\': \\'Patsy Bouge\\', \\'profile_path\\': None}, {\\'credit_id\\': \\'574f14f19251415ca1000082\\', \\'department\\': \\'Art\\', \\'gender\\': 0, \\'id\\': 7961, \\'job\\': \\'Sculptor\\', \\'name\\': \\'Norm DeCarlo\\', \\'profile_path\\': None}, {\\'credit_id\\': \\'5751ae4bc3a3683772002b7f\\', \\'department\\': \\'Visual Effects\\', \\'gender\\': 2, \\'id\\': 12905, \\'job\\': \\'Animation Director\\', \\'name\\': \\'Ash Brannon\\', \\'profile_path\\': \\'/6ueWgPEEBHvS3De2BHYQnYjRTig.jpg\\'}, {\\'credit_id\\': \\'5891edbe9251412dc5007cd6\\', \\'department\\': \\'Sound\\', \\'gender\\': 2, \\'id\\': 7885, \\'job\\': \\'Music\\', \\'name\\': \\'Randy Newman\\', \\'profile_path\\': \\'/w0JzfoiM25nrnxYOzosPHRq6mlE.jpg\\'}, {\\'credit_id\\': \\'589213d39251412dc8009832\\', \\'department\\': \\'Directing\\', \\'gender\\': 0, \\'id\\': 1748707, \\'job\\': \\'Layout\\', \\'name\\': \\'Roman Figun\\', \\'profile_path\\': None}, {\\'credit_id\\': \\'5892173dc3a3680968009351\\', \\'department\\': \\'Sound\\', \\'gender\\': 2, \\'id\\': 4949, \\'job\\': \\'Orchestrator\\', \\'name\\': \\'Don Davis\\', \\'profile_path\\': None}, {\\'credit_id\\': \\'589217cec3a3686b0a0052ba\\', \\'department\\': \\'Sound\\', \\'gender\\': 0, \\'id\\': 1372885, \\'job\\': \\'Music Editor\\', \\'name\\': \\'James Flamberg\\', \\'profile_path\\': None}, {\\'credit_id\\': \\'58921831c3a3686348004a64\\', \\'department\\': \\'Editing\\', \\'gender\\': 0, \\'id\\': 1739962, \\'job\\': \\'Negative Cutter\\', \\'name\\': \\'Mary Beth Smith\\', \\'profile_path\\': None}, {\\'credit_id\\': \\'58921838c3a36809700096c0\\', \\'department\\': \\'Editing\\', \\'gender\\': 0, \\'id\\': 1748513, \\'job\\': \\'Negative Cutter\\', \\'name\\': \\'Rick Mackay\\', \\'profile_path\\': None}, {\\'credit_id\\': \\'589218429251412dd1009d1b\\', \\'department\\': \\'Art\\', \\'gender\\': 0, \\'id\\': 1458006, \\'job\\': \\'Title Designer\\', \\'name\\': \\'Susan Bradley\\', \\'profile_path\\': None}, {\\'credit_id\\': \\'5891ed99c3a3680966007670\\', \\'department\\': \\'Crew\\', \\'gender\\': 0, \\'id\\': 1748557, \\'job\\': \\'Supervising Technical Director\\', \\'name\\': \\'William Reeves\\', \\'profile_path\\': None}, {\\'credit_id\\': \\'5891edcec3a3686b0a002eb2\\', \\'department\\': \\'Sound\\', \\'gender\\': 2, \\'id\\': 7885, \\'job\\': \\'Songs\\', \\'name\\': \\'Randy Newman\\', \\'profile_path\\': \\'/w0JzfoiM25nrnxYOzosPHRq6mlE.jpg\\'}, {\\'credit_id\\': \\'5891edf9c3a36809700075e6\\', \\'department\\': \\'Writing\\', \\'gender\\': 2, \\'id\\': 7, \\'job\\': \\'Original Story\\', \\'name\\': \\'Andrew Stanton\\', \\'profile_path\\': \\'/pvQWsu0qc8JFQhMVJkTHuexUAa1.jpg\\'}, {\\'credit_id\\': \\'58920f0b9251412dd7009104\\', \\'department\\': \\'Crew\\', \\'gender\\': 2, \\'id\\': 12890, \\'job\\': \\'Supervising Animator\\', \\'name\\': \\'Pete Docter\\', \\'profile_path\\': \\'/r6ngPgnReA3RHmKjmSoVsc6Awjp.jpg\\'}, {\\'credit_id\\': \\'58920f1fc3a3680977009021\\', \\'department\\': \\'Sound\\', \\'gender\\': 2, \\'id\\': 2216, \\'job\\': \\'Sound Designer\\', \\'name\\': \\'Gary Rydstrom\\', \\'profile_path\\': \\'/jZpr1nVfO7lldWI0YtmP1FGw7Rj.jpg\\'}, {\\'credit_id\\': \\'58920f389251412dd700912d\\', \\'department\\': \\'Production\\', \\'gender\\': 0, \\'id\\': 12909, \\'job\\': \\'Production Supervisor\\', \\'name\\': \\'Karen Robert Jackson\\', \\'profile_path\\': None}, {\\'credit_id\\': \\'58920fbd9251412dcb00969c\\', \\'department\\': \\'Crew\\', \\'gender\\': 0, \\'id\\': 953331, \\'job\\': \\'Executive Music Producer\\', \\'name\\': \\'Chris Montan\\', \\'profile_path\\': None}, {\\'credit_id\\': \\'589210069251412dd7009219\\', \\'department\\': \\'Visual Effects\\', \\'gender\\': 0, \\'id\\': 7893, \\'job\\': \\'Animation Director\\', \\'name\\': \\'Rich Quade\\', \\'profile_path\\': None}, {\\'credit_id\\': \\'589210329251412dcd00943b\\', \\'department\\': \\'Visual Effects\\', \\'gender\\': 0, \\'id\\': 8025, \\'job\\': \\'Animation\\', \\'name\\': \\'Michael Berenstein\\', \\'profile_path\\': None}, {\\'credit_id\\': \\'5892103bc3a368096a009180\\', \\'department\\': \\'Visual Effects\\', \\'gender\\': 0, \\'id\\': 78009, \\'job\\': \\'Animation\\', \\'name\\': \\'Colin Brady\\', \\'profile_path\\': None}, {\\'credit_id\\': \\'5892105dc3a3680968008db2\\', \\'department\\': \\'Visual Effects\\', \\'gender\\': 0, \\'id\\': 1748682, \\'job\\': \\'Animation\\', \\'name\\': \\'Davey Crockett Feiten\\', \\'profile_path\\': None}, {\\'credit_id\\': \\'589210669251412dcd009466\\', \\'department\\': \\'Visual Effects\\', \\'gender\\': 0, \\'id\\': 1454030, \\'job\\': \\'Animation\\', \\'name\\': \\'Angie Glocka\\', \\'profile_path\\': None}, {\\'credit_id\\': \\'5892107c9251412dd1009613\\', \\'department\\': \\'Visual Effects\\', \\'gender\\': 0, \\'id\\': 1748683, \\'job\\': \\'Animation\\', \\'name\\': \\'Rex Grignon\\', \\'profile_path\\': None}, {\\'credit_id\\': \\'5892108ac3a3680973008d3f\\', \\'department\\': \\'Visual Effects\\', \\'gender\\': 0, \\'id\\': 1748684, \\'job\\': \\'Animation\\', \\'name\\': \\'Tom K. Gurney\\', \\'profile_path\\': None}, {\\'credit_id\\': \\'58921093c3a3686348004477\\', \\'department\\': \\'Visual Effects\\', \\'gender\\': 2, \\'id\\': 8029, \\'job\\': \\'Animation\\', \\'name\\': \\'Jimmy Hayward\\', \\'profile_path\\': \\'/lTDRpudEY7BDwTefXbXzMlmb0ui.jpg\\'}, {\\'credit_id\\': \\'5892109b9251412dcd0094b0\\', \\'department\\': \\'Visual Effects\\', \\'gender\\': 0, \\'id\\': 1426773, \\'job\\': \\'Animation\\', \\'name\\': \\'Hal T. Hickel\\', \\'profile_path\\': None}, {\\'credit_id\\': \\'589210a29251412dc5009a29\\', \\'department\\': \\'Visual Effects\\', \\'gender\\': 0, \\'id\\': 8035, \\'job\\': \\'Animation\\', \\'name\\': \\'Karen Kiser\\', \\'profile_path\\': None}, {\\'credit_id\\': \\'589210ccc3a3680977009191\\', \\'department\\': \\'Visual Effects\\', \\'gender\\': 0, \\'id\\': 1748688, \\'job\\': \\'Animation\\', \\'name\\': \\'Anthony B. LaMolinara\\', \\'profile_path\\': None}, {\\'credit_id\\': \\'589210d7c3a3686b0a004c1f\\', \\'department\\': \\'Visual Effects\\', \\'gender\\': 0, \\'id\\': 587314, \\'job\\': \\'Animation\\', \\'name\\': \\'Guionne Leroy\\', \\'profile_path\\': None}, {\\'credit_id\\': \\'589210e1c3a36809770091a7\\', \\'department\\': \\'Visual Effects\\', \\'gender\\': 2, \\'id\\': 7918, \\'job\\': \\'Animation\\', \\'name\\': \\'Bud Luckey\\', \\'profile_path\\': \\'/pcCh7G19FKMNijmPQg1PMH1btic.jpg\\'}, {\\'credit_id\\': \\'589210ee9251412dc200978a\\', \\'department\\': \\'Visual Effects\\', \\'gender\\': 0, \\'id\\': 1748689, \\'job\\': \\'Animation\\', \\'name\\': \\'Les Major\\', \\'profile_path\\': None}, {\\'credit_id\\': \\'589210fa9251412dc8009595\\', \\'department\\': \\'Visual Effects\\', \\'gender\\': 2, \\'id\\': 7892, \\'job\\': \\'Animation\\', \\'name\\': \\'Glenn McQueen\\', \\'profile_path\\': None}, {\\'credit_id\\': \\'589211029251412dc8009598\\', \\'department\\': \\'Visual Effects\\', \\'gender\\': 0, \\'id\\': 555795, \\'job\\': \\'Animation\\', \\'name\\': \\'Mark Oftedal\\', \\'profile_path\\': None}, {\\'credit_id\\': \\'5892110b9251412dc800959d\\', \\'department\\': \\'Visual Effects\\', \\'gender\\': 2, \\'id\\': 7882, \\'job\\': \\'Animation\\', \\'name\\': \\'Jeff Pidgeon\\', \\'profile_path\\': \\'/yLddkg5HcgbJg00cS13GVBnP0HY.jpg\\'}, {\\'credit_id\\': \\'58921113c3a36863480044e4\\', \\'department\\': \\'Visual Effects\\', \\'gender\\': 0, \\'id\\': 8017, \\'job\\': \\'Animation\\', \\'name\\': \\'Jeff Pratt\\', \\'profile_path\\': None}, {\\'credit_id\\': \\'5892111c9251412dcb0097e9\\', \\'department\\': \\'Visual Effects\\', \\'gender\\': 0, \\'id\\': 1184140, \\'job\\': \\'Animation\\', \\'name\\': \\'Steve Rabatich\\', \\'profile_path\\': None}, {\\'credit_id\\': \\'58921123c3a36809700090f6\\', \\'department\\': \\'Visual Effects\\', \\'gender\\': 0, \\'id\\': 8049, \\'job\\': \\'Animation\\', \\'name\\': \\'Roger Rose\\', \\'profile_path\\': None}, {\\'credit_id\\': \\'5892112b9251412dcb0097fb\\', \\'department\\': \\'Visual Effects\\', \\'gender\\': 0, \\'id\\': 1509559, \\'job\\': \\'Animation\\', \\'name\\': \\'Steve Segal\\', \\'profile_path\\': None}, {\\'credit_id\\': \\'589211349251412dc80095c3\\', \\'department\\': \\'Visual Effects\\', \\'gender\\': 0, \\'id\\': 1748691, \\'job\\': \\'Animation\\', \\'name\\': \\'Doug Sheppeck\\', \\'profile_path\\': None}, {\\'credit_id\\': \\'5892113cc3a3680970009106\\', \\'department\\': \\'Visual Effects\\', \\'gender\\': 0, \\'id\\': 8050, \\'job\\': \\'Animation\\', \\'name\\': \\'Alan Sperling\\', \\'profile_path\\': None}, {\\'credit_id\\': \\'58921148c3a3686b0a004c99\\', \\'department\\': \\'Visual Effects\\', \\'gender\\': 0, \\'id\\': 8010, \\'job\\': \\'Animation\\', \\'name\\': \\'Doug Sweetland\\', \\'profile_path\\': None}, {\\'credit_id\\': \\'58921150c3a3680966009125\\', \\'department\\': \\'Visual Effects\\', \\'gender\\': 0, \\'id\\': 8044, \\'job\\': \\'Animation\\', \\'name\\': \\'David Tart\\', \\'profile_path\\': None}, {\\'credit_id\\': \\'589211629251412dc5009b00\\', \\'department\\': \\'Visual Effects\\', \\'gender\\': 0, \\'id\\': 1454034, \\'job\\': \\'Animation\\', \\'name\\': \\'Ken Willard\\', \\'profile_path\\': None}, {\\'credit_id\\': \\'589211c1c3a3686b0a004d28\\', \\'department\\': \\'Visual Effects\\', \\'gender\\': 0, \\'id\\': 7887, \\'job\\': \\'Visual Effects Supervisor\\', \\'name\\': \\'Thomas Porter\\', \\'profile_path\\': None}, {\\'credit_id\\': \\'589211d4c3a3680968008ed9\\', \\'department\\': \\'Visual Effects\\', \\'gender\\': 0, \\'id\\': 1406878, \\'job\\': \\'Visual Effects\\', \\'name\\': \\'Mark Thomas Henne\\', \\'profile_path\\': None}, {\\'credit_id\\': \\'589211f59251412dd4008e65\\', \\'department\\': \\'Visual Effects\\', \\'gender\\': 0, \\'id\\': 1748698, \\'job\\': \\'Visual Effects\\', \\'name\\': \\'Oren Jacob\\', \\'profile_path\\': None}, {\\'credit_id\\': \\'58921242c3a368096a00939b\\', \\'department\\': \\'Visual Effects\\', \\'gender\\': 0, \\'id\\': 1748699, \\'job\\': \\'Visual Effects\\', \\'name\\': \\'Darwyn Peachey\\', \\'profile_path\\': None}, {\\'credit_id\\': \\'5892124b9251412dc5009bd2\\', \\'department\\': \\'Visual Effects\\', \\'gender\\': 0, \\'id\\': 1748701, \\'job\\': \\'Visual Effects\\', \\'name\\': \\'Mitch Prater\\', \\'profile_path\\': None}, {\\'credit_id\\': \\'58921264c3a3686b0a004dbf\\', \\'department\\': \\'Visual Effects\\', \\'gender\\': 0, \\'id\\': 1748703, \\'job\\': \\'Visual Effects\\', \\'name\\': \\'Brian M. Rosen\\', \\'profile_path\\': None}, {\\'credit_id\\': \\'589212709251412dcd009676\\', \\'department\\': \\'Lighting\\', \\'gender\\': 1, \\'id\\': 12912, \\'job\\': \\'Lighting Supervisor\\', \\'name\\': \\'Sharon Calahan\\', \\'profile_path\\': None}, {\\'credit_id\\': \\'5892127fc3a3686b0a004de5\\', \\'department\\': \\'Lighting\\', \\'gender\\': 0, \\'id\\': 7899, \\'job\\': \\'Lighting Supervisor\\', \\'name\\': \\'Galyn Susman\\', \\'profile_path\\': None}, {\\'credit_id\\': \\'589212cdc3a3680970009268\\', \\'department\\': \\'Visual Effects\\', \\'gender\\': 0, \\'id\\': 12915, \\'job\\': \\'CG Painter\\', \\'name\\': \\'William Cone\\', \\'profile_path\\': None}, {\\'credit_id\\': \\'5892130f9251412dc8009791\\', \\'department\\': \\'Art\\', \\'gender\\': 0, \\'id\\': 1748705, \\'job\\': \\'Sculptor\\', \\'name\\': \\'Shelley Daniels Lekven\\', \\'profile_path\\': None}, {\\'credit_id\\': \\'5892131c9251412dd4008f4c\\', \\'department\\': \\'Visual Effects\\', \\'gender\\': 2, \\'id\\': 7889, \\'job\\': \\'Character Designer\\', \\'name\\': \\'Bob Pauley\\', \\'profile_path\\': None}, {\\'credit_id\\': \\'589213249251412dd100987b\\', \\'department\\': \\'Visual Effects\\', \\'gender\\': 2, \\'id\\': 7918, \\'job\\': \\'Character Designer\\', \\'name\\': \\'Bud Luckey\\', \\'profile_path\\': \\'/pcCh7G19FKMNijmPQg1PMH1btic.jpg\\'}, {\\'credit_id\\': \\'5892132b9251412dc80097b1\\', \\'department\\': \\'Visual Effects\\', \\'gender\\': 2, \\'id\\': 7, \\'job\\': \\'Character Designer\\', \\'name\\': \\'Andrew Stanton\\', \\'profile_path\\': \\'/pvQWsu0qc8JFQhMVJkTHuexUAa1.jpg\\'}, {\\'credit_id\\': \\'58921332c3a368634800467b\\', \\'department\\': \\'Visual Effects\\', \\'gender\\': 0, \\'id\\': 12915, \\'job\\': \\'Character Designer\\', \\'name\\': \\'William Cone\\', \\'profile_path\\': None}, {\\'credit_id\\': \\'5892135f9251412dd4008f90\\', \\'department\\': \\'Visual Effects\\', \\'gender\\': 0, \\'id\\': 1748706, \\'job\\': \\'Character Designer\\', \\'name\\': \\'Steve Johnson\\', \\'profile_path\\': None}, {\\'credit_id\\': \\'58921384c3a3680973008fd4\\', \\'department\\': \\'Visual Effects\\', \\'gender\\': 0, \\'id\\': 1176752, \\'job\\': \\'Character Designer\\', \\'name\\': \\'Dan Haskett\\', \\'profile_path\\': None}, {\\'credit_id\\': \\'5892138e9251412dc20099fc\\', \\'department\\': \\'Visual Effects\\', \\'gender\\': 0, \\'id\\': 1088034, \\'job\\': \\'Character Designer\\', \\'name\\': \\'Tom Holloway\\', \\'profile_path\\': \\'/a0r0T2usTBpgMI5aZbRBDW1fTl8.jpg\\'}, {\\'credit_id\\': \\'58921395c3a368097700942f\\', \\'department\\': \\'Visual Effects\\', \\'gender\\': 0, \\'id\\': 1447465, \\'job\\': \\'Character Designer\\', \\'name\\': \\'Jean Gillmore\\', \\'profile_path\\': None}, {\\'credit_id\\': \\'589213e2c3a3680973009026\\', \\'department\\': \\'Directing\\', \\'gender\\': 0, \\'id\\': 1748709, \\'job\\': \\'Layout\\', \\'name\\': \\'Desirée Mourad\\', \\'profile_path\\': None}, {\\'credit_id\\': \\'589214099251412dc5009d57\\', \\'department\\': \\'Art\\', \\'gender\\': 0, \\'id\\': 1748710, \\'job\\': \\'Set Dresser\\', \\'name\\': \"Kelly O\\'Connell\", \\'profile_path\\': None}, {\\'credit_id\\': \\'58921411c3a3686b0a004f70\\', \\'department\\': \\'Art\\', \\'gender\\': 0, \\'id\\': 1443471, \\'job\\': \\'Set Dresser\\', \\'name\\': \\'Sonoko Konishi\\', \\'profile_path\\': None}, {\\'credit_id\\': \\'58921434c3a368096a00956e\\', \\'department\\': \\'Art\\', \\'gender\\': 0, \\'id\\': 1748711, \\'job\\': \\'Set Dresser\\', \\'name\\': \\'Ann M. Rockwell\\', \\'profile_path\\': None}, {\\'credit_id\\': \\'5892144ac3a36809680090de\\', \\'department\\': \\'Editing\\', \\'gender\\': 0, \\'id\\': 1748712, \\'job\\': \\'Editorial Manager\\', \\'name\\': \\'Julie M. McDonald\\', \\'profile_path\\': None}, {\\'credit_id\\': \\'58921479c3a368096800910f\\', \\'department\\': \\'Editing\\', \\'gender\\': 0, \\'id\\': 1589729, \\'job\\': \\'Assistant Editor\\', \\'name\\': \\'Robin Lee\\', \\'profile_path\\': None}, {\\'credit_id\\': \\'5892148b9251412dd10099cc\\', \\'department\\': \\'Editing\\', \\'gender\\': 0, \\'id\\': 1748716, \\'job\\': \\'Assistant Editor\\', \\'name\\': \\'Tom Freeman\\', \\'profile_path\\': None}, {\\'credit_id\\': \\'589214959251412dcb009b1f\\', \\'department\\': \\'Editing\\', \\'gender\\': 0, \\'id\\': 1748717, \\'job\\': \\'Assistant Editor\\', \\'name\\': \\'Ada Cochavi\\', \\'profile_path\\': None}, {\\'credit_id\\': \\'5892149ec3a3686348004798\\', \\'department\\': \\'Editing\\', \\'gender\\': 0, \\'id\\': 1336438, \\'job\\': \\'Assistant Editor\\', \\'name\\': \\'Dana Mulligan\\', \\'profile_path\\': None}, {\\'credit_id\\': \\'589214adc3a368096a0095db\\', \\'department\\': \\'Editing\\', \\'gender\\': 0, \\'id\\': 1748718, \\'job\\': \\'Editorial Coordinator\\', \\'name\\': \\'Deirdre Morrison\\', \\'profile_path\\': None}, {\\'credit_id\\': \\'589214c7c3a368097700952b\\', \\'department\\': \\'Production\\', \\'gender\\': 0, \\'id\\': 1748719, \\'job\\': \\'Production Coordinator\\', \\'name\\': \\'Lori Lombardo\\', \\'profile_path\\': None}, {\\'credit_id\\': \\'589214cec3a368096a009603\\', \\'department\\': \\'Production\\', \\'gender\\': 0, \\'id\\': 1748720, \\'job\\': \\'Production Coordinator\\', \\'name\\': \\'Ellen Devine\\', \\'profile_path\\': None}, {\\'credit_id\\': \\'589214e39251412dc8009904\\', \\'department\\': \\'Crew\\', \\'gender\\': 0, \\'id\\': 1468014, \\'job\\': \\'Unit Publicist\\', \\'name\\': \\'Lauren Beth Strogoff\\', \\'profile_path\\': None}, {\\'credit_id\\': \\'58921544c3a3686b0a00507d\\', \\'department\\': \\'Sound\\', \\'gender\\': 2, \\'id\\': 2216, \\'job\\': \\'Sound Re-Recording Mixer\\', \\'name\\': \\'Gary Rydstrom\\', \\'profile_path\\': \\'/jZpr1nVfO7lldWI0YtmP1FGw7Rj.jpg\\'}, {\\'credit_id\\': \\'5892154c9251412dd1009a56\\', \\'department\\': \\'Sound\\', \\'gender\\': 0, \\'id\\': 1425978, \\'job\\': \\'Sound Re-Recording Mixer\\', \\'name\\': \\'Gary Summers\\', \\'profile_path\\': None}, {\\'credit_id\\': \\'58921555c3a36809680091bd\\', \\'department\\': \\'Sound\\', \\'gender\\': 2, \\'id\\': 8276, \\'job\\': \\'Supervising Sound Editor\\', \\'name\\': \\'Tim Holland\\', \\'profile_path\\': None}, {\\'credit_id\\': \\'589215c39251412dcb009c12\\', \\'department\\': \\'Sound\\', \\'gender\\': 0, \\'id\\': 7069, \\'job\\': \\'Sound Effects Editor\\', \\'name\\': \\'Pat Jackson\\', \\'profile_path\\': None}, {\\'credit_id\\': \\'58921698c3a368096a009788\\', \\'department\\': \\'Crew\\', \\'gender\\': 2, \\'id\\': 15894, \\'job\\': \\'Sound Design Assistant\\', \\'name\\': \\'Tom Myers\\', \\'profile_path\\': None}, {\\'credit_id\\': \\'589216a89251412dc2009ca4\\', \\'department\\': \\'Sound\\', \\'gender\\': 0, \\'id\\': 1414177, \\'job\\': \\'Assistant Sound Editor\\', \\'name\\': \\'J.R. Grubbs\\', \\'profile_path\\': None}, {\\'credit_id\\': \\'589216c19251412dc2009cb9\\', \\'department\\': \\'Sound\\', \\'gender\\': 1, \\'id\\': 1748724, \\'job\\': \\'Assistant Sound Editor\\', \\'name\\': \\'Susan Sanford\\', \\'profile_path\\': None}, {\\'credit_id\\': \\'589216ccc3a3680973009274\\', \\'department\\': \\'Sound\\', \\'gender\\': 0, \\'id\\': 1748725, \\'job\\': \\'Assistant Sound Editor\\', \\'name\\': \\'Susan Popovic\\', \\'profile_path\\': None}, {\\'credit_id\\': \\'589216d79251412dc8009aa0\\', \\'department\\': \\'Sound\\', \\'gender\\': 0, \\'id\\': 8067, \\'job\\': \\'Assistant Sound Editor\\', \\'name\\': \\'Dan Engstrom\\', \\'profile_path\\': None}, {\\'credit_id\\': \\'589216e49251412dcd009a4f\\', \\'department\\': \\'Production\\', \\'gender\\': 1, \\'id\\': 7902, \\'job\\': \\'Casting Consultant\\', \\'name\\': \\'Ruth Lambert\\', \\'profile_path\\': None}, {\\'credit_id\\': \\'589216f39251412dc2009cf3\\', \\'department\\': \\'Production\\', \\'gender\\': 0, \\'id\\': 84493, \\'job\\': \\'ADR Voice Casting\\', \\'name\\': \\'Mickie McGowan\\', \\'profile_path\\': \\'/k7TjJBfINsg8vLQxJwos6XObAD6.jpg\\'}]'"
      ]
     },
     "execution_count": 15,
     "metadata": {},
     "output_type": "execute_result"
    }
   ],
   "source": [
    "df_cast[\"crew\"][0]"
   ]
  },
  {
   "cell_type": "markdown",
   "metadata": {},
   "source": [
    "The number of people working on a movie is really huge. We can, however, extract the direcetor from the crew column. These values could then be one hot encoded."
   ]
  },
  {
   "cell_type": "code",
   "execution_count": 16,
   "metadata": {},
   "outputs": [
    {
     "data": {
      "text/plain": [
       "\"[{'cast_id': 14, 'character': 'Woody (voice)', 'credit_id': '52fe4284c3a36847f8024f95', 'gender': 2, 'id': 31, 'name': 'Tom Hanks', 'order': 0, 'profile_path': '/pQFoyx7rp09CJTAb932F2g8Nlho.jpg'}, {'cast_id': 15, 'character': 'Buzz Lightyear (voice)', 'credit_id': '52fe4284c3a36847f8024f99', 'gender': 2, 'id': 12898, 'name': 'Tim Allen', 'order': 1, 'profile_path': '/uX2xVf6pMmPepxnvFWyBtjexzgY.jpg'}, {'cast_id': 16, 'character': 'Mr. Potato Head (voice)', 'credit_id': '52fe4284c3a36847f8024f9d', 'gender': 2, 'id': 7167, 'name': 'Don Rickles', 'order': 2, 'profile_path': '/h5BcaDMPRVLHLDzbQavec4xfSdt.jpg'}, {'cast_id': 17, 'character': 'Slinky Dog (voice)', 'credit_id': '52fe4284c3a36847f8024fa1', 'gender': 2, 'id': 12899, 'name': 'Jim Varney', 'order': 3, 'profile_path': '/eIo2jVVXYgjDtaHoF19Ll9vtW7h.jpg'}, {'cast_id': 18, 'character': 'Rex (voice)', 'credit_id': '52fe4284c3a36847f8024fa5', 'gender': 2, 'id': 12900, 'name': 'Wallace Shawn', 'order': 4, 'profile_path': '/oGE6JqPP2xH4tNORKNqxbNPYi7u.jpg'}, {'cast_id': 19, 'character': 'Hamm (voice)', 'credit_id': '52fe4284c3a36847f8024fa9', 'gender': 2, 'id': 7907, 'name': 'John Ratzenberger', 'order': 5, 'profile_path': '/yGechiKWL6TJDfVE2KPSJYqdMsY.jpg'}, {'cast_id': 20, 'character': 'Bo Peep (voice)', 'credit_id': '52fe4284c3a36847f8024fad', 'gender': 1, 'id': 8873, 'name': 'Annie Potts', 'order': 6, 'profile_path': '/eryXT84RL41jHSJcMy4kS3u9y6w.jpg'}, {'cast_id': 26, 'character': 'Andy (voice)', 'credit_id': '52fe4284c3a36847f8024fc1', 'gender': 0, 'id': 1116442, 'name': 'John Morris', 'order': 7, 'profile_path': '/vYGyvK4LzeaUCoNSHtsuqJUY15M.jpg'}, {'cast_id': 22, 'character': 'Sid (voice)', 'credit_id': '52fe4284c3a36847f8024fb1', 'gender': 2, 'id': 12901, 'name': 'Erik von Detten', 'order': 8, 'profile_path': '/twnF1ZaJ1FUNUuo6xLXwcxjayBE.jpg'}, {'cast_id': 23, 'character': 'Mrs. Davis (voice)', 'credit_id': '52fe4284c3a36847f8024fb5', 'gender': 1, 'id': 12133, 'name': 'Laurie Metcalf', 'order': 9, 'profile_path': '/unMMIT60eoBM2sN2nyR7EZ2BvvD.jpg'}, {'cast_id': 24, 'character': 'Sergeant (voice)', 'credit_id': '52fe4284c3a36847f8024fb9', 'gender': 2, 'id': 8655, 'name': 'R. Lee Ermey', 'order': 10, 'profile_path': '/r8GBqFBjypLUP9VVqDqfZ7wYbSs.jpg'}, {'cast_id': 25, 'character': 'Hannah (voice)', 'credit_id': '52fe4284c3a36847f8024fbd', 'gender': 1, 'id': 12903, 'name': 'Sarah Freeman', 'order': 11, 'profile_path': None}, {'cast_id': 27, 'character': 'TV Announcer (voice)', 'credit_id': '52fe4284c3a36847f8024fc5', 'gender': 2, 'id': 37221, 'name': 'Penn Jillette', 'order': 12, 'profile_path': '/zmAaXUdx12NRsssgHbk1T31j2x9.jpg'}]\""
      ]
     },
     "execution_count": 16,
     "metadata": {},
     "output_type": "execute_result"
    }
   ],
   "source": [
    "df_cast[\"cast\"][0]"
   ]
  },
  {
   "cell_type": "markdown",
   "metadata": {},
   "source": [
    "The number of people acting in a movie is really huge, but smaller than the crew. They could be one hot encoded."
   ]
  },
  {
   "cell_type": "markdown",
   "metadata": {},
   "source": [
    "### 1.4 Keywords\n",
    "Keywords are similar to genres, but more diverse."
   ]
  },
  {
   "cell_type": "code",
   "execution_count": 17,
   "metadata": {},
   "outputs": [
    {
     "data": {
      "text/html": [
       "<div>\n",
       "<style scoped>\n",
       "    .dataframe tbody tr th:only-of-type {\n",
       "        vertical-align: middle;\n",
       "    }\n",
       "\n",
       "    .dataframe tbody tr th {\n",
       "        vertical-align: top;\n",
       "    }\n",
       "\n",
       "    .dataframe thead th {\n",
       "        text-align: right;\n",
       "    }\n",
       "</style>\n",
       "<table border=\"1\" class=\"dataframe\">\n",
       "  <thead>\n",
       "    <tr style=\"text-align: right;\">\n",
       "      <th></th>\n",
       "      <th>id</th>\n",
       "      <th>keywords</th>\n",
       "    </tr>\n",
       "  </thead>\n",
       "  <tbody>\n",
       "    <tr>\n",
       "      <td>0</td>\n",
       "      <td>862</td>\n",
       "      <td>[{'id': 931, 'name': 'jealousy'}, {'id': 4290,...</td>\n",
       "    </tr>\n",
       "    <tr>\n",
       "      <td>1</td>\n",
       "      <td>8844</td>\n",
       "      <td>[{'id': 10090, 'name': 'board game'}, {'id': 1...</td>\n",
       "    </tr>\n",
       "    <tr>\n",
       "      <td>2</td>\n",
       "      <td>15602</td>\n",
       "      <td>[{'id': 1495, 'name': 'fishing'}, {'id': 12392...</td>\n",
       "    </tr>\n",
       "  </tbody>\n",
       "</table>\n",
       "</div>"
      ],
      "text/plain": [
       "      id                                           keywords\n",
       "0    862  [{'id': 931, 'name': 'jealousy'}, {'id': 4290,...\n",
       "1   8844  [{'id': 10090, 'name': 'board game'}, {'id': 1...\n",
       "2  15602  [{'id': 1495, 'name': 'fishing'}, {'id': 12392..."
      ]
     },
     "execution_count": 17,
     "metadata": {},
     "output_type": "execute_result"
    }
   ],
   "source": [
    "# load keywords\n",
    "df_keywords = pd.read_csv(\"the-movies-dataset/keywords.csv\")\n",
    "df_keywords.head(3)"
   ]
  },
  {
   "cell_type": "markdown",
   "metadata": {},
   "source": [
    "The keywords could be used additionally to the metadata, but using them creates a huge amount of additional features (since one hot encoding could be used very well in this case).  \n",
    "We could also extract the most common keywords and only use those, but I would recommend to only use them as additional features later on, if at all."
   ]
  },
  {
   "cell_type": "markdown",
   "metadata": {},
   "source": [
    "<b>Conclusion:</b> A lot of columns can be one hot encoded, using all of them results in a very large feature space. Therefore we can start with less attributes and add more if necessary."
   ]
  },
  {
   "cell_type": "markdown",
   "metadata": {},
   "source": [
    "## 2. Data Preparation\n",
    "### 2.1 Preprocessing"
   ]
  },
  {
   "cell_type": "code",
   "execution_count": 18,
   "metadata": {},
   "outputs": [],
   "source": [
    "# # convert timestamp format (if we want to keep the timestamp as a feature, so far it is not needed in our use case)\n",
    "# df_ratings[\"timestamp\"] = [ datetime.datetime.fromtimestamp(row.timestamp) for index, row in df_ratings.iterrows() ] "
   ]
  },
  {
   "cell_type": "code",
   "execution_count": 29,
   "metadata": {},
   "outputs": [
    {
     "data": {
      "text/plain": [
       "45466"
      ]
     },
     "execution_count": 29,
     "metadata": {},
     "output_type": "execute_result"
    }
   ],
   "source": [
    "len(df_movies)"
   ]
  },
  {
   "cell_type": "code",
   "execution_count": 30,
   "metadata": {},
   "outputs": [],
   "source": [
    "# # drop irrelevant movie metadata columns: overview, poster_path, tagline\n",
    "df_movies.drop(columns=[\"overview\", \"poster_path\", \"tagline\", \"revenue\", \"imdb_id\", \"overview\", \"popularity\", \"title\", \"original_title\", \"release_date\", \"vote_count\", \"video\"])"
   ]
  },
  {
   "cell_type": "code",
   "execution_count": 32,
   "metadata": {},
   "outputs": [
    {
     "data": {
      "text/plain": [
       "45014"
      ]
     },
     "execution_count": 32,
     "metadata": {},
     "output_type": "execute_result"
    }
   ],
   "source": [
    "# filter movies on Status == 'Released' and drop status column\n",
    "df_movies = df_movies[df_movies[\"status\"] == 'Released']\n",
    "df_movies.drop(columns=[\"status\"])\n",
    "len(df_movies)"
   ]
  },
  {
   "cell_type": "code",
   "execution_count": 21,
   "metadata": {},
   "outputs": [],
   "source": [
    "# normalize \"belongs to collection\" and \"homepage\" to True (1) or False (0)"
   ]
  },
  {
   "cell_type": "code",
   "execution_count": 22,
   "metadata": {},
   "outputs": [],
   "source": [
    "# one hot encoding for \"production_company\" and \"production_countries\" and \"spoken_languages\" "
   ]
  },
  {
   "cell_type": "code",
   "execution_count": 23,
   "metadata": {},
   "outputs": [],
   "source": [
    "# one hot encoding of genres (and other list columns)"
   ]
  },
  {
   "cell_type": "code",
   "execution_count": 24,
   "metadata": {},
   "outputs": [],
   "source": [
    "# split genres\n",
    "# aggregate movie genres for clustering and normalize values"
   ]
  },
  {
   "cell_type": "code",
   "execution_count": null,
   "metadata": {},
   "outputs": [],
   "source": [
    "# combine with cast: actors (one hot encoded) and director (extract from crew)"
   ]
  },
  {
   "cell_type": "code",
   "execution_count": null,
   "metadata": {},
   "outputs": [],
   "source": [
    "# combine with user data"
   ]
  },
  {
   "cell_type": "markdown",
   "metadata": {},
   "source": [
    "### 2.2 Split into training and Test Data for Regression"
   ]
  },
  {
   "cell_type": "code",
   "execution_count": 25,
   "metadata": {},
   "outputs": [],
   "source": [
    "# split into training and test data (10 cross fold for rating?)"
   ]
  },
  {
   "cell_type": "code",
   "execution_count": null,
   "metadata": {},
   "outputs": [],
   "source": []
  }
 ],
 "metadata": {
  "kernelspec": {
   "display_name": "Python 3",
   "language": "python",
   "name": "python3"
  },
  "language_info": {
   "codemirror_mode": {
    "name": "ipython",
    "version": 3
   },
   "file_extension": ".py",
   "mimetype": "text/x-python",
   "name": "python",
   "nbconvert_exporter": "python",
   "pygments_lexer": "ipython3",
   "version": "3.7.4"
  }
 },
 "nbformat": 4,
 "nbformat_minor": 2
}
