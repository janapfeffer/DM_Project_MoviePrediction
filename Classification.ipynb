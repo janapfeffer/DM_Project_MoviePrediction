{
 "cells": [
  {
   "cell_type": "markdown",
   "metadata": {},
   "source": [
    "# Clustering "
   ]
  },
  {
   "cell_type": "code",
   "execution_count": 1,
   "metadata": {},
   "outputs": [],
   "source": [
    "# Load Libraries\n",
    "import pandas as pd\n",
    "import re\n",
    "import warnings\n",
    "\n",
    "from sklearn.model_selection import train_test_split, StratifiedKFold, cross_val_score, GridSearchCV\n",
    "from sklearn.feature_selection import RFECV\n",
    "\n",
    "from sklearn.metrics import mean_squared_error, r2_score, confusion_matrix, accuracy_score, f1_score, precision_score, recall_score\n",
    "from math import sqrt\n",
    "from sklearn.pipeline import Pipeline\n",
    "from sklearn.linear_model import Ridge\n",
    "\n",
    "\n",
    "from sklearn.preprocessing import StandardScaler\n",
    "from sklearn.preprocessing import PolynomialFeatures\n",
    "from sklearn.preprocessing import LabelEncoder\n",
    "\n",
    "import matplotlib.pyplot as plt\n",
    "\n",
    "import itertools\n",
    "import numpy as np\n",
    "import seaborn as sns\n",
    "\n",
    "# machine learning\n",
    "from sklearn.svm import SVC, LinearSVC\n",
    "from sklearn.ensemble import RandomForestClassifier\n",
    "from sklearn.neighbors import KNeighborsClassifier\n",
    "from sklearn.naive_bayes import GaussianNB\n",
    "from sklearn.linear_model import Perceptron\n",
    "from sklearn.linear_model import SGDClassifier\n",
    "from sklearn.tree import DecisionTreeClassifier\n",
    "#from xgboost import XGBRegressor\n",
    "\n",
    "#warnings.simplefilter(action='ignore', category=FutureWarning)"
   ]
  },
  {
   "cell_type": "code",
   "execution_count": 2,
   "metadata": {},
   "outputs": [
    {
     "name": "stdout",
     "output_type": "stream",
     "text": [
      "Length after import: 43872\n",
      "     budget     id  runtime  Documentary  Foreign  Action  Horror  War  \\\n",
      "0  30000000    862     81.0          0.0      0.0     0.0     0.0  0.0   \n",
      "1  65000000   8844    104.0          0.0      0.0     0.0     0.0  0.0   \n",
      "2         0  15602    101.0          0.0      0.0     0.0     0.0  0.0   \n",
      "3  16000000  31357    127.0          0.0      0.0     0.0     0.0  0.0   \n",
      "4         0  11862    106.0          0.0      0.0     0.0     0.0  0.0   \n",
      "\n",
      "   Romance  Adventure  ...  actor_Donald Sutherland  actor_Robert De Niro  \\\n",
      "0      0.0        0.0  ...                        0                     0   \n",
      "1      0.0        1.0  ...                        0                     0   \n",
      "2      1.0        0.0  ...                        0                     0   \n",
      "3      1.0        0.0  ...                        0                     0   \n",
      "4      0.0        0.0  ...                        0                     0   \n",
      "\n",
      "   actor_Samuel L. Jackson  actor_Jackie Chan  actor_Michael Caine  \\\n",
      "0                        0                  0                    0   \n",
      "1                        0                  0                    0   \n",
      "2                        0                  0                    0   \n",
      "3                        0                  0                    0   \n",
      "4                        0                  0                    0   \n",
      "\n",
      "   actor_Christopher Lee  actor_Frank Welker  actor_John Carradine  \\\n",
      "0                      0                   0                     0   \n",
      "1                      0                   0                     0   \n",
      "2                      0                   0                     0   \n",
      "3                      0                   0                     0   \n",
      "4                      0                   0                     0   \n",
      "\n",
      "   actor_Gérard Depardieu  Rating_Label  \n",
      "0                       0             4  \n",
      "1                       0             3  \n",
      "2                       0             3  \n",
      "3                       0             3  \n",
      "4                       0             3  \n",
      "\n",
      "[5 rows x 66 columns]\n"
     ]
    },
    {
     "data": {
      "text/plain": [
       "Index(['budget', 'id', 'runtime', 'Documentary', 'Foreign', 'Action', 'Horror',\n",
       "       'War', 'Romance', 'Adventure', 'Thriller', 'History', 'Drama', 'Family',\n",
       "       'Comedy', 'TV Movie', 'Crime', 'Western', 'Mystery', 'Fantasy',\n",
       "       'Animation', 'Music', 'Science Fiction', 'part_of_collection', '+18',\n",
       "       'hasHomepage', '18+', 'spokenLanguages', 'movieId', 'imdbId',\n",
       "       'director', 'actors', 'pcomp_Orion Pictures', 'pcomp_New Line Cinema',\n",
       "       'pcomp_Gaumont', 'pcomp_Twentieth Century Fox Film Corporation',\n",
       "       'pcomp_Walt Disney Productions', 'pcomp_Paramount Pictures',\n",
       "       'pcomp_Universal Pictures', 'pcomp_Village Roadshow Pictures',\n",
       "       'pcomp_StudioCanal', 'pcomp_Columbia Pictures Corporation',\n",
       "       'pcomp_Regency Enterprises', 'pcomp_Touchstone Pictures',\n",
       "       'pcomp_Mosfilm', 'pcomp_RKO Radio Pictures', 'pcomp_Miramax Films',\n",
       "       'pcomp_TriStar Pictures', 'pcomp_Columbia Pictures',\n",
       "       'pcomp_Toho Company', 'pcomp_Relativity Media',\n",
       "       'pcomp_Walt Disney Pictures', 'pcomp_BBC Films', 'pcomp_United Artists',\n",
       "       'actor_Bess Flowers', 'actor_John Wayne', 'actor_Donald Sutherland',\n",
       "       'actor_Robert De Niro', 'actor_Samuel L. Jackson', 'actor_Jackie Chan',\n",
       "       'actor_Michael Caine', 'actor_Christopher Lee', 'actor_Frank Welker',\n",
       "       'actor_John Carradine', 'actor_Gérard Depardieu', 'Rating_Label'],\n",
       "      dtype='object')"
      ]
     },
     "execution_count": 2,
     "metadata": {},
     "output_type": "execute_result"
    }
   ],
   "source": [
    "#Load the data\n",
    "\n",
    "df_movies = pd.read_csv(\"classificationPreprocessingGeneral.csv\")\n",
    "print(\"Length after import: \" + str(len(df_movies)))\n",
    "df_movies = df_movies.fillna(0)\n",
    "print(df_movies.head(5))\n",
    "df_movies.columns"
   ]
  },
  {
   "cell_type": "markdown",
   "metadata": {},
   "source": [
    "After we loaded all the libaries and data that we need, we can start with the classification tasks.\n",
    "\n",
    "Since we have a lot of features it makes sense to eliminate features that do not have a significant impact on the prediction to improve our perfromance. Also we have to drop the columns that are anyways not needed like to actor column, which got one hot encoded already in preprocessing or the ids of the movie..."
   ]
  },
  {
   "cell_type": "code",
   "execution_count": 4,
   "metadata": {},
   "outputs": [
    {
     "name": "stdout",
     "output_type": "stream",
     "text": [
      "     budget  runtime  Documentary  Foreign  Action  Horror  War  Romance  \\\n",
      "0  30000000     81.0          0.0      0.0     0.0     0.0  0.0      0.0   \n",
      "1  65000000    104.0          0.0      0.0     0.0     0.0  0.0      0.0   \n",
      "2         0    101.0          0.0      0.0     0.0     0.0  0.0      1.0   \n",
      "3  16000000    127.0          0.0      0.0     0.0     0.0  0.0      1.0   \n",
      "4         0    106.0          0.0      0.0     0.0     0.0  0.0      0.0   \n",
      "\n",
      "   Adventure  Thriller  ...  actor_Donald Sutherland  actor_Robert De Niro  \\\n",
      "0        0.0       0.0  ...                        0                     0   \n",
      "1        1.0       0.0  ...                        0                     0   \n",
      "2        0.0       0.0  ...                        0                     0   \n",
      "3        0.0       0.0  ...                        0                     0   \n",
      "4        0.0       0.0  ...                        0                     0   \n",
      "\n",
      "   actor_Samuel L. Jackson  actor_Jackie Chan  actor_Michael Caine  \\\n",
      "0                        0                  0                    0   \n",
      "1                        0                  0                    0   \n",
      "2                        0                  0                    0   \n",
      "3                        0                  0                    0   \n",
      "4                        0                  0                    0   \n",
      "\n",
      "   actor_Christopher Lee  actor_Frank Welker  actor_John Carradine  \\\n",
      "0                      0                   0                     0   \n",
      "1                      0                   0                     0   \n",
      "2                      0                   0                     0   \n",
      "3                      0                   0                     0   \n",
      "4                      0                   0                     0   \n",
      "\n",
      "   actor_Gérard Depardieu  Rating_Label  \n",
      "0                       0             4  \n",
      "1                       0             3  \n",
      "2                       0             3  \n",
      "3                       0             3  \n",
      "4                       0             3  \n",
      "\n",
      "[5 rows x 60 columns]\n"
     ]
    },
    {
     "data": {
      "text/plain": [
       "Index(['budget', 'runtime', 'Documentary', 'Foreign', 'Action', 'Horror',\n",
       "       'War', 'Romance', 'Adventure', 'Thriller', 'History', 'Drama', 'Family',\n",
       "       'Comedy', 'TV Movie', 'Crime', 'Western', 'Mystery', 'Fantasy',\n",
       "       'Animation', 'Music', 'Science Fiction', 'part_of_collection',\n",
       "       'hasHomepage', '18+', 'director', 'pcomp_Orion Pictures',\n",
       "       'pcomp_New Line Cinema', 'pcomp_Gaumont',\n",
       "       'pcomp_Twentieth Century Fox Film Corporation',\n",
       "       'pcomp_Walt Disney Productions', 'pcomp_Paramount Pictures',\n",
       "       'pcomp_Universal Pictures', 'pcomp_Village Roadshow Pictures',\n",
       "       'pcomp_StudioCanal', 'pcomp_Columbia Pictures Corporation',\n",
       "       'pcomp_Regency Enterprises', 'pcomp_Touchstone Pictures',\n",
       "       'pcomp_Mosfilm', 'pcomp_RKO Radio Pictures', 'pcomp_Miramax Films',\n",
       "       'pcomp_TriStar Pictures', 'pcomp_Columbia Pictures',\n",
       "       'pcomp_Toho Company', 'pcomp_Relativity Media',\n",
       "       'pcomp_Walt Disney Pictures', 'pcomp_BBC Films', 'pcomp_United Artists',\n",
       "       'actor_Bess Flowers', 'actor_John Wayne', 'actor_Donald Sutherland',\n",
       "       'actor_Robert De Niro', 'actor_Samuel L. Jackson', 'actor_Jackie Chan',\n",
       "       'actor_Michael Caine', 'actor_Christopher Lee', 'actor_Frank Welker',\n",
       "       'actor_John Carradine', 'actor_Gérard Depardieu', 'Rating_Label'],\n",
       "      dtype='object')"
      ]
     },
     "execution_count": 4,
     "metadata": {},
     "output_type": "execute_result"
    }
   ],
   "source": [
    "# drop columns that are not needed maybe implement feature selction...\n",
    "\n",
    "\n",
    "\n",
    "features_to_remove = ['actors', 'movieId', 'imdbId', 'id', '+18','spokenLanguages'\n",
    "                     ]\n",
    "for i in features_to_remove:\n",
    "    if i in df_movies.columns:\n",
    "        df_movies = df_movies.drop(columns=i)\n",
    "print(df_movies.head(5))\n",
    "df_movies.columns"
   ]
  },
  {
   "cell_type": "markdown",
   "metadata": {},
   "source": [
    "Now that we have exactly the data we want we start with the spitting.\n",
    "\n",
    "1. First of all we separate the features from our targte(the rating).\n",
    "2. We split our data into training and test data in order to evaluate our model later. The proportions will be 60% to 40%\n",
    "3. We create a kfold cross validation that we will later use for our models in order to evaluate them better\n",
    "4. We encode data that needs to be encoded -> ratings and directors"
   ]
  },
  {
   "cell_type": "code",
   "execution_count": 32,
   "metadata": {},
   "outputs": [
    {
     "name": "stdout",
     "output_type": "stream",
     "text": [
      "Train: 26323 Features and 26323 Ratings\n",
      "Test: 17549 Features and 17549 Ratings\n",
      "805\n",
      "3447\n",
      "13914\n",
      "7676\n",
      "481\n",
      "0\n"
     ]
    },
    {
     "data": {
      "image/png": "[encoded data removed]",
      "text/plain": [
       "<Figure size 432x288 with 1 Axes>"
      ]
     },
     "metadata": {
      "needs_background": "light"
     },
     "output_type": "display_data"
    },
    {
     "data": {
      "image/png": "[encoded data removed]",
      "text/plain": [
       "<Figure size 432x288 with 1 Axes>"
      ]
     },
     "metadata": {
      "needs_background": "light"
     },
     "output_type": "display_data"
    }
   ],
   "source": [
    "# specify the cross validation\n",
    "stratified_10_fold_cv = StratifiedKFold(n_splits=10, shuffle=True, random_state=42)\n",
    "\n",
    "# separate features and target variable\n",
    "rating = df_movies['Rating_Label'] # weight\n",
    "features = df_movies.drop(columns=['Rating_Label'])\n",
    "\n",
    "# encode labels\n",
    "lab_enc = LabelEncoder()\n",
    "rating = lab_enc.fit_transform(rating)\n",
    "features[\"director\"] = features[\"director\"].astype(str)\n",
    "features[\"director\"] = lab_enc.fit_transform(features[\"director\"])\n",
    "\n",
    "# create a train/test split\n",
    "features_train, features_test, rating_train, rating_test = train_test_split(features, rating, test_size=0.4, random_state=42, stratify=rating )\n",
    "\n",
    "print(\"Train: \" + str(len(features_train)) + \" Features and \" + str(len(rating_train)) + \" Ratings\")\n",
    "print(\"Test: \" + str(len(features_test)) + \" Features and \" + str(len(rating_test)) + \" Ratings\")\n",
    "\n",
    "class_dist = pd.Series(rating_train).value_counts()\n",
    "plt.bar(class_dist.index, class_dist)\n",
    "plt.ylabel(\"Frequency\")\n",
    "plt.show()\n",
    "\n",
    "# from imblearn.under_sampling import RandomUnderSampler\n",
    "\n",
    "# sampler = RandomUnderSampler()\n",
    "# features_balanced_train, rating_balanced_train = sampler.fit_resample(features_train, rating_train)\n",
    "\n",
    "# class_dist = pd.Series(rating_balanced_train).value_counts()\n",
    "# plt.bar(class_dist.index, class_dist)\n",
    "# plt.ylabel(\"Frequency\")\n",
    "# plt.show()\n",
    "\n",
    "\n",
    "from imblearn.over_sampling import RandomOverSampler\n",
    "\n",
    "sampler = RandomOverSampler()\n",
    "features_balanced_train, rating_balanced_train = sampler.fit_resample(features_train, rating_train)\n",
    "\n",
    "class_dist = pd.Series(rating_balanced_train).value_counts()\n",
    "plt.bar(class_dist.index, class_dist)\n",
    "plt.ylabel(\"Frequency\")\n",
    "plt.show()\n",
    "\n",
    "features_train = features_balanced_train\n",
    "rating_train = rating_balanced_train"
   ]
  },
  {
   "cell_type": "markdown",
   "metadata": {},
   "source": [
    "# Initial evaluation of different classifiers"
   ]
  },
  {
   "cell_type": "code",
   "execution_count": 33,
   "metadata": {},
   "outputs": [
    {
     "name": "stderr",
     "output_type": "stream",
     "text": [
      "C:\\Users\\Stefan Sousa\\Anaconda3\\lib\\site-packages\\sklearn\\ensemble\\forest.py:245: FutureWarning: The default value of n_estimators will change from 10 in version 0.20 to 100 in 0.22.\n",
      "  \"10 in version 0.20 to 100 in 0.22.\", FutureWarning)\n"
     ]
    },
    {
     "name": "stdout",
     "output_type": "stream",
     "text": [
      "Scores Random Forest:\n",
      "Accuracy: 0.42196136531996126\n",
      "Precision: 0.423862983762869\n",
      "Recall: 0.42196136531996126\n",
      "f1_score: 0.42260909847122813\n",
      "\n",
      "Scores knn:\n",
      "Accuracy: 0.30092882785343894\n",
      "Precision: 0.39013129698635296\n",
      "Recall: 0.30092882785343894\n",
      "f1_score: 0.3292925953271871\n",
      "\n",
      "Scores Decision Tree:\n",
      "Accuracy: 0.39643284517636335\n",
      "Precision: 0.40967333014027124\n",
      "Recall: 0.39643284517636335\n",
      "f1_score: 0.4027136325977395\n",
      "\n",
      "Scores Naive Bayes:\n",
      "Accuracy: 0.05920565274374608\n",
      "Precision: 0.41439640377961157\n",
      "Recall: 0.05920565274374608\n",
      "f1_score: 0.07522468115585328\n",
      "\n",
      "Scores SVC:\n",
      "Accuracy: 0.38805629950424525\n",
      "Precision: 0.42826088856197886\n",
      "Recall: 0.38805629950424525\n",
      "f1_score: 0.33955250772365897\n",
      "\n",
      "\n"
     ]
    },
    {
     "name": "stderr",
     "output_type": "stream",
     "text": [
      "C:\\Users\\Stefan Sousa\\Anaconda3\\lib\\site-packages\\sklearn\\svm\\base.py:929: ConvergenceWarning: Liblinear failed to converge, increase the number of iterations.\n",
      "  \"the number of iterations.\", ConvergenceWarning)\n"
     ]
    }
   ],
   "source": [
    "##### create and fit a RandomForestClassifier\n",
    "rf_reg = RandomForestClassifier()\n",
    "rf_reg.fit(features_train, rating_train)\n",
    "rating_pred_rf = rf_reg.predict(features_test)\n",
    "\n",
    "print(\"Scores Random Forest:\")\n",
    "#compute the confusion matrix\n",
    "# cnf_matrix = confusion_matrix(rating_test, rating_pred_rf)\n",
    "# print(cnf_matrix)\n",
    "\n",
    "#compute accuracy score\n",
    "print(\"Accuracy: {}\".format(accuracy_score(rating_test, rating_pred_rf)))\n",
    "print(\"Precision: {}\".format(precision_score(rating_test, rating_pred_rf, average='weighted')))\n",
    "print(\"Recall: {}\".format(recall_score(rating_test, rating_pred_rf, average='weighted')))\n",
    "print(\"f1_score: {}\".format(f1_score(rating_test, rating_pred_rf, average='weighted')))\n",
    "print()\n",
    "\n",
    "##### create and fit a KNN\n",
    "knn_reg = KNeighborsClassifier()\n",
    "knn_reg.fit(features_train, rating_train)\n",
    "rating_pred_knn = knn_reg.predict(features_test)\n",
    "\n",
    "print(\"Scores knn:\")\n",
    "# #compute the confusion matrix\n",
    "# cnf_matrix = confusion_matrix(rating_test, rating_pred_knn)\n",
    "# print(cnf_matrix)\n",
    "\n",
    "#compute accuracy score\n",
    "print(\"Accuracy: {}\".format(accuracy_score(rating_test, rating_pred_knn)))\n",
    "print(\"Precision: {}\".format(precision_score(rating_test, rating_pred_knn, average='weighted')))\n",
    "print(\"Recall: {}\".format(recall_score(rating_test, rating_pred_knn, average='weighted')))\n",
    "print(\"f1_score: {}\".format(f1_score(rating_test, rating_pred_knn, average='weighted')))\n",
    "print()\n",
    "\n",
    "##### create and fit a DecisionTreeClassifier\n",
    "dt_reg = DecisionTreeClassifier()\n",
    "dt_reg.fit(features_train, rating_train)\n",
    "rating_pred_dt = dt_reg.predict(features_test)\n",
    "\n",
    "print(\"Scores Decision Tree:\")\n",
    "#compute the confusion matrix\n",
    "# cnf_matrix = confusion_matrix(rating_test, rating_pred_dt)\n",
    "# print(cnf_matrix)\n",
    "\n",
    "#compute accuracy score\n",
    "print(\"Accuracy: {}\".format(accuracy_score(rating_test, rating_pred_dt)))\n",
    "print(\"Precision: {}\".format(precision_score(rating_test, rating_pred_dt, average='weighted')))\n",
    "print(\"Recall: {}\".format(recall_score(rating_test, rating_pred_dt, average='weighted')))\n",
    "print(\"f1_score: {}\".format(f1_score(rating_test, rating_pred_dt, average='weighted')))\n",
    "print()\n",
    "\n",
    "##### create and fit a GaussianNB\n",
    "nb_reg = GaussianNB()\n",
    "nb_reg.fit(features_train, rating_train)\n",
    "rating_pred_nb = nb_reg.predict(features_test)\n",
    "\n",
    "print(\"Scores Naive Bayes:\")\n",
    "# #compute the confusion matrix\n",
    "# cnf_matrix = confusion_matrix(rating_test, rating_pred_nb)\n",
    "# print(cnf_matrix)\n",
    "\n",
    "#compute accuracy score\n",
    "print(\"Accuracy: {}\".format(accuracy_score(rating_test, rating_pred_nb)))\n",
    "print(\"Precision: {}\".format(precision_score(rating_test, rating_pred_nb, average='weighted')))\n",
    "print(\"Recall: {}\".format(recall_score(rating_test, rating_pred_nb, average='weighted')))\n",
    "print(\"f1_score: {}\".format(f1_score(rating_test, rating_pred_nb, average='weighted')))\n",
    "print()\n",
    "\n",
    "##### create and fit a SVC\n",
    "svc_reg = LinearSVC()\n",
    "svc_reg.fit(features_train, rating_train)\n",
    "rating_pred_svc = svc_reg.predict(features_test)\n",
    "\n",
    "print(\"Scores SVC:\")\n",
    "#compute the confusion matrix\n",
    "# cnf_matrix = confusion_matrix(rating_test, rating_pred_svc)\n",
    "# print(cnf_matrix)\n",
    "\n",
    "#compute accuracy score\n",
    "print(\"Accuracy: {}\".format(accuracy_score(rating_test, rating_pred_svc)))\n",
    "print(\"Precision: {}\".format(precision_score(rating_test, rating_pred_svc, average='weighted')))\n",
    "print(\"Recall: {}\".format(recall_score(rating_test, rating_pred_svc, average='weighted')))\n",
    "print(\"f1_score: {}\".format(f1_score(rating_test, rating_pred_svc, average='weighted')))\n",
    "print()\n",
    "\n",
    "#plot the confusion matrix\n",
    "#plot_confusion_matrix(cnf_matrix, classes=lab_enc.classes_, title='KNN Classifier')\n",
    "\n",
    "print()\n",
    "\n",
    "# metrics.f1_score(y_test, y_pred, average='weighted', labels=np.unique(y_pred))\n",
    "\n"
   ]
  },
  {
   "cell_type": "markdown",
   "metadata": {},
   "source": [
    "## It seems that KNN & Random Forrest are the best classifiers. With those two we will now do some parameter tuning..."
   ]
  },
  {
   "cell_type": "markdown",
   "metadata": {},
   "source": [
    "We will see with wich k the algorithm works best:"
   ]
  },
  {
   "cell_type": "code",
   "execution_count": 34,
   "metadata": {},
   "outputs": [
    {
     "name": "stdout",
     "output_type": "stream",
     "text": [
      "Scores knn:\n",
      "best score is 0.7760241483398016 with params {'n_neighbors': 2}\n"
     ]
    }
   ],
   "source": [
    "# create and fit a knn classifier\n",
    "knn_reg = KNeighborsClassifier()\n",
    "\n",
    "knn_reg.fit(features_train, rating_train)\n",
    "rating_pred_knn = knn_reg.predict(features_test)\n",
    "\n",
    "print(\"Scores knn:\")\n",
    "\n",
    "# specify the parameter grid\n",
    "parameters = {\n",
    "    'n_neighbors': range(2, 30)\n",
    "}\n",
    "\n",
    "\n",
    "# create the grid search instance\n",
    "grid_search_estimator = GridSearchCV(knn_reg, parameters, scoring='accuracy', cv=stratified_10_fold_cv, return_train_score=False)\n",
    "\n",
    "# run the grid search\n",
    "grid_search_estimator.fit(features_train, rating_train)\n",
    "\n",
    "# print the results of all hyper-parameter combinations\n",
    "results = pd.DataFrame(grid_search_estimator.cv_results_)\n",
    "#display(results)\n",
    "    \n",
    "# print the best parameter setting\n",
    "print(\"best score is {} with params {}\".format(grid_search_estimator.best_score_, grid_search_estimator.best_params_))"
   ]
  },
  {
   "cell_type": "code",
   "execution_count": 38,
   "metadata": {},
   "outputs": [],
   "source": [
    "def plot_confusion_matrix(y_true, y_pred, classes,\n",
    "                          normalize=False,\n",
    "                          title=None,\n",
    "                          cmap=plt.cm.Blues):\n",
    "    \"\"\"\n",
    "    This function prints and plots the confusion matrix.\n",
    "    Normalization can be applied by setting `normalize=True`.\n",
    "    \"\"\"\n",
    "    if not title:\n",
    "        if normalize:\n",
    "            title = 'Normalized confusion matrix'\n",
    "        else:\n",
    "            title = 'Confusion matrix, without normalization'\n",
    "\n",
    "    # Compute confusion matrix\n",
    "    cm = confusion_matrix(y_true, y_pred)\n",
    "    # Only use the labels that appear in the data\n",
    "    #classes = classes[unique_labels(y_true, y_pred)]\n",
    "    if normalize:\n",
    "        cm = cm.astype('float') / cm.sum(axis=1)[:, np.newaxis]\n",
    "        print(\"Normalized confusion matrix\")\n",
    "    else:\n",
    "        print('Confusion matrix, without normalization')\n",
    "\n",
    "    print(cm)\n",
    "\n",
    "    fig, ax = plt.subplots()\n",
    "    im = ax.imshow(cm, interpolation='nearest', cmap=cmap)\n",
    "    ax.figure.colorbar(im, ax=ax)\n",
    "    # We want to show all ticks...\n",
    "    ax.set(xticks=np.arange(cm.shape[1]),\n",
    "           yticks=np.arange(cm.shape[0]),\n",
    "           # ... and label them with the respective list entries\n",
    "           xticklabels=classes, yticklabels=classes,\n",
    "           title=title,\n",
    "           ylabel='True label',\n",
    "           xlabel='Predicted label')\n",
    "\n",
    "    # Rotate the tick labels and set their alignment.\n",
    "    plt.setp(ax.get_xticklabels(), rotation=45, ha=\"right\",\n",
    "             rotation_mode=\"anchor\")\n",
    "\n",
    "    # Loop over data dimensions and create text annotations.\n",
    "    fmt = '.2f' if normalize else 'd'\n",
    "    thresh = cm.max() / 2.\n",
    "    for i in range(cm.shape[0]):\n",
    "        for j in range(cm.shape[1]):\n",
    "            ax.text(j, i, format(cm[i, j], fmt),\n",
    "                    ha=\"center\", va=\"center\",\n",
    "                    color=\"white\" if cm[i, j] > thresh else \"black\")\n",
    "    fig.tight_layout()\n",
    "    return ax"
   ]
  },
  {
   "cell_type": "code",
   "execution_count": 39,
   "metadata": {},
   "outputs": [
    {
     "name": "stdout",
     "output_type": "stream",
     "text": [
      "Scores knn:\n",
      "Fold 0: Accuracy = 53.979885057471265%\n",
      "Fold 1: Accuracy = 54.468390804597696%\n",
      "Fold 2: Accuracy = 54.037356321839084%\n",
      "Fold 3: Accuracy = 53.44827586206896%\n",
      "Fold 4: Accuracy = 54.30625449317038%\n",
      "Fold 5: Accuracy = 54.36376707404745%\n",
      "Fold 6: Accuracy = 53.74550682961898%\n",
      "Fold 7: Accuracy = 54.14809489575845%\n",
      "Fold 8: Accuracy = 54.953271028037385%\n",
      "Fold 9: Accuracy = 54.76635514018692%\n",
      "Average Accuracy = 54.221715750679664%\n",
      "\n",
      "Accuracy on Test Data: 0.20696335973559746\n",
      "f1_score on Test Data: 0.25406681921076113\n",
      "Confusion matrix, without normalization\n",
      "[[  33  123  265  105   10]\n",
      " [ 108  526 1197  433   35]\n",
      " [ 254 1362 5118 2404  139]\n",
      " [ 123  581 2629 1682  102]\n",
      " [  16   43  168   83   10]]\n"
     ]
    },
    {
     "data": {
      "image/png": "[encoded data removed]",
      "text/plain": [
       "<Figure size 432x288 with 2 Axes>"
      ]
     },
     "metadata": {
      "needs_background": "light"
     },
     "output_type": "display_data"
    }
   ],
   "source": [
    "# do now Knn with k = 29 and applie 10 cross fold\n",
    "\n",
    "# create and fit a knn classifier\n",
    "knn_reg = KNeighborsClassifier(n_neighbors=29)\n",
    "\n",
    "knn_reg.fit(features_train, rating_train)\n",
    "rating_pred_knn = knn_reg.predict(features_test)\n",
    "\n",
    "print(\"Scores knn:\")\n",
    "\n",
    "\n",
    "#compute accuracy score\n",
    "\n",
    "accuracy_knn = cross_val_score(knn_reg, features_train, rating_train, cv=stratified_10_fold_cv, scoring='accuracy')\n",
    "\n",
    "for i, acc in enumerate(accuracy_knn):\n",
    "    print(\"Fold {}: Accuracy = {}%\".format(i, acc * 100.0))\n",
    "\n",
    "print(\"Average Accuracy = {}%\".format(accuracy_knn.mean() * 100.0))\n",
    "print()\n",
    "print(\"Accuracy on Test Data: {}\".format(accuracy_score(rating_test, rating_pred_knn)))\n",
    "print(\"f1_score on Test Data: {}\".format(f1_score(rating_test, rating_pred_knn, average='weighted')))\n",
    "\n",
    "class_names = ['0','1','2','3','4','5']\n",
    "\n",
    "\n",
    "np.set_printoptions(precision=2)\n",
    "\n",
    "# Plot non-normalized confusion matrix\n",
    "plot_confusion_matrix(rating_test, rating_pred_rf, classes=class_names,\n",
    "                      title='Confusion matrix, without normalization')\n",
    "\n",
    "\n",
    "plt.show()\n"
   ]
  },
  {
   "cell_type": "markdown",
   "metadata": {},
   "source": [
    "Tuning of Random forrest:"
   ]
  },
  {
   "cell_type": "code",
   "execution_count": 40,
   "metadata": {},
   "outputs": [
    {
     "name": "stderr",
     "output_type": "stream",
     "text": [
      "C:\\Users\\Stefan Sousa\\Anaconda3\\lib\\site-packages\\sklearn\\ensemble\\forest.py:245: FutureWarning: The default value of n_estimators will change from 10 in version 0.20 to 100 in 0.22.\n",
      "  \"10 in version 0.20 to 100 in 0.22.\", FutureWarning)\n"
     ]
    },
    {
     "name": "stdout",
     "output_type": "stream",
     "text": [
      "best score is 0.8526232571510709 with params {'criterion': 'gini', 'max_depth': None, 'max_features': 'auto'}\n",
      "\n"
     ]
    }
   ],
   "source": [
    "##### create and fit a RandomForestClassifier\n",
    "rf_reg = RandomForestClassifier()\n",
    "rf_reg.fit(features_train, rating_train)\n",
    "rating_pred_rf = rf_reg.predict(features_test)\n",
    "\n",
    "#Tuning of algorithm\n",
    "\n",
    "# specify the parameter grid\n",
    "parameters = {\n",
    "    'max_depth':[3,5,10,None],\n",
    "     'criterion':[\"gini\", \"entropy\"],\n",
    "     'max_features':[\"auto\",\"log2\",None]\n",
    "}\n",
    "\n",
    "\n",
    "# create the grid search instance\n",
    "grid_search_estimator = GridSearchCV(rf_reg, parameters, scoring='accuracy', cv=stratified_10_fold_cv, return_train_score=False)\n",
    "\n",
    "# run the grid search\n",
    "grid_search_estimator.fit(features_train, rating_train)\n",
    "\n",
    "# print the results of all hyper-parameter combinations\n",
    "results = pd.DataFrame(grid_search_estimator.cv_results_)\n",
    "#display(results)\n",
    "    \n",
    "# print the best parameter setting\n",
    "print(\"best score is {} with params {}\".format(grid_search_estimator.best_score_, grid_search_estimator.best_params_))\n",
    "\n",
    "\n",
    "\n",
    "\n",
    "print()\n"
   ]
  },
  {
   "cell_type": "code",
   "execution_count": 41,
   "metadata": {},
   "outputs": [
    {
     "name": "stderr",
     "output_type": "stream",
     "text": [
      "C:\\Users\\Stefan Sousa\\Anaconda3\\lib\\site-packages\\sklearn\\ensemble\\forest.py:245: FutureWarning: The default value of n_estimators will change from 10 in version 0.20 to 100 in 0.22.\n",
      "  \"10 in version 0.20 to 100 in 0.22.\", FutureWarning)\n"
     ]
    },
    {
     "name": "stdout",
     "output_type": "stream",
     "text": [
      "Scores Random Forrest:\n",
      "Fold 0: Accuracy = 29.080459770114942%\n",
      "Fold 1: Accuracy = 30.660919540229887%\n",
      "Fold 2: Accuracy = 30.1867816091954%\n",
      "Fold 3: Accuracy = 29.03735632183908%\n",
      "Fold 4: Accuracy = 29.1588785046729%\n",
      "Fold 5: Accuracy = 29.05823148813803%\n",
      "Fold 6: Accuracy = 29.259525521207763%\n",
      "Fold 7: Accuracy = 28.986340762041696%\n",
      "Fold 8: Accuracy = 29.245147375988495%\n",
      "Fold 9: Accuracy = 29.6764917325665%\n",
      "Average Accuracy = 29.435013262599476%\n",
      "\n",
      "Accuracy on Test Data: 0.20929967519516782\n",
      "f1_score on Test Data: 0.15730682169059448\n",
      "Confusion matrix, without normalization\n",
      "[[  88   39    0  129  280]\n",
      " [ 345  205    0  635 1114]\n",
      " [ 532  430    0 4579 3736]\n",
      " [  87   82    0 3209 1739]\n",
      " [   7    2    0  140  171]]\n"
     ]
    },
    {
     "name": "stderr",
     "output_type": "stream",
     "text": [
      "C:\\Users\\Stefan Sousa\\Anaconda3\\lib\\site-packages\\sklearn\\metrics\\classification.py:1437: UndefinedMetricWarning: F-score is ill-defined and being set to 0.0 in labels with no predicted samples.\n",
      "  'precision', 'predicted', average, warn_for)\n"
     ]
    },
    {
     "data": {
      "image/png": "[encoded data removed]",
      "text/plain": [
       "<Figure size 432x288 with 2 Axes>"
      ]
     },
     "metadata": {
      "needs_background": "light"
     },
     "output_type": "display_data"
    }
   ],
   "source": [
    "# do now Random Forest with entropy, maxdeepth 3 and applie 10 cross fold\n",
    "\n",
    "##### create and fit a RandomForestClassifier\n",
    "rf_reg = RandomForestClassifier(criterion='gini', max_depth=3, max_features=None)\n",
    "rf_reg.fit(features_train, rating_train)\n",
    "rating_pred_rf = rf_reg.predict(features_test)\n",
    "\n",
    "print(\"Scores Random Forrest:\")\n",
    "\n",
    "\n",
    "#compute accuracy score\n",
    "\n",
    "accuracy_knn = cross_val_score(rf_reg, features_train, rating_train, cv=stratified_10_fold_cv, scoring='accuracy')\n",
    "\n",
    "for i, acc in enumerate(accuracy_knn):\n",
    "    print(\"Fold {}: Accuracy = {}%\".format(i, acc * 100.0))\n",
    "\n",
    "print(\"Average Accuracy = {}%\".format(accuracy_knn.mean() * 100.0))\n",
    "print()\n",
    "print(\"Accuracy on Test Data: {}\".format(accuracy_score(rating_test, rating_pred_rf)))\n",
    "print(\"f1_score on Test Data: {}\".format(f1_score(rating_test, rating_pred_rf, average='weighted')))\n",
    "\n",
    "class_names = ['0','1','2','3','4','5']\n",
    "\n",
    "\n",
    "np.set_printoptions(precision=2)\n",
    "\n",
    "# Plot non-normalized confusion matrix\n",
    "plot_confusion_matrix(rating_test, rating_pred_rf, classes=class_names,\n",
    "                      title='Confusion matrix, without normalization')\n",
    "\n",
    "\n",
    "plt.show()\n"
   ]
  },
  {
   "cell_type": "markdown",
   "metadata": {},
   "source": [
    "## Analysis of Modell with Cluster Data"
   ]
  },
  {
   "cell_type": "code",
   "execution_count": 46,
   "metadata": {},
   "outputs": [
    {
     "name": "stdout",
     "output_type": "stream",
     "text": [
      "Length after import: 43872\n",
      "   usercluster  movieId    budget   id  runtime  Documentary  Foreign  Action  \\\n",
      "0            0        1  30000000  862     81.0          0.0      0.0     0.0   \n",
      "1            1        1  30000000  862     81.0          0.0      0.0     0.0   \n",
      "2            2        1  30000000  862     81.0          0.0      0.0     0.0   \n",
      "3            3        1  30000000  862     81.0          0.0      0.0     0.0   \n",
      "4            4        1  30000000  862     81.0          0.0      0.0     0.0   \n",
      "\n",
      "   Horror  War  ...  actor_Donald Sutherland  actor_Robert De Niro  \\\n",
      "0     0.0  0.0  ...                        0                     0   \n",
      "1     0.0  0.0  ...                        0                     0   \n",
      "2     0.0  0.0  ...                        0                     0   \n",
      "3     0.0  0.0  ...                        0                     0   \n",
      "4     0.0  0.0  ...                        0                     0   \n",
      "\n",
      "   actor_Samuel L. Jackson  actor_Jackie Chan  actor_Michael Caine  \\\n",
      "0                        0                  0                    0   \n",
      "1                        0                  0                    0   \n",
      "2                        0                  0                    0   \n",
      "3                        0                  0                    0   \n",
      "4                        0                  0                    0   \n",
      "\n",
      "   actor_Christopher Lee  actor_Frank Welker  actor_John Carradine  \\\n",
      "0                      0                   0                     0   \n",
      "1                      0                   0                     0   \n",
      "2                      0                   0                     0   \n",
      "3                      0                   0                     0   \n",
      "4                      0                   0                     0   \n",
      "\n",
      "   actor_Gérard Depardieu  Rating_Label  \n",
      "0                       0             4  \n",
      "1                       0             4  \n",
      "2                       0             4  \n",
      "3                       0             4  \n",
      "4                       0             4  \n",
      "\n",
      "[5 rows x 68 columns]\n"
     ]
    },
    {
     "data": {
      "text/plain": [
       "Index(['usercluster', 'movieId', 'budget', 'id', 'runtime', 'Documentary',\n",
       "       'Foreign', 'Action', 'Horror', 'War', 'Romance', 'Adventure',\n",
       "       'Thriller', 'History', 'Drama', 'Family', 'Comedy', 'TV Movie', 'Crime',\n",
       "       'Western', 'Mystery', 'Fantasy', 'Animation', 'Music',\n",
       "       'Science Fiction', 'part_of_collection', '+18', 'hasHomepage', '18+',\n",
       "       'spokenLanguages', 'imdbId', 'rating_y', 'director', 'actors',\n",
       "       'pcomp_Orion Pictures', 'pcomp_New Line Cinema', 'pcomp_Gaumont',\n",
       "       'pcomp_Twentieth Century Fox Film Corporation',\n",
       "       'pcomp_Walt Disney Productions', 'pcomp_Paramount Pictures',\n",
       "       'pcomp_Universal Pictures', 'pcomp_Village Roadshow Pictures',\n",
       "       'pcomp_StudioCanal', 'pcomp_Columbia Pictures Corporation',\n",
       "       'pcomp_Regency Enterprises', 'pcomp_Touchstone Pictures',\n",
       "       'pcomp_Mosfilm', 'pcomp_RKO Radio Pictures', 'pcomp_Miramax Films',\n",
       "       'pcomp_TriStar Pictures', 'pcomp_Columbia Pictures',\n",
       "       'pcomp_Toho Company', 'pcomp_Relativity Media',\n",
       "       'pcomp_Walt Disney Pictures', 'pcomp_BBC Films', 'pcomp_United Artists',\n",
       "       'actor_Bess Flowers', 'actor_John Wayne', 'actor_Donald Sutherland',\n",
       "       'actor_Robert De Niro', 'actor_Samuel L. Jackson', 'actor_Jackie Chan',\n",
       "       'actor_Michael Caine', 'actor_Christopher Lee', 'actor_Frank Welker',\n",
       "       'actor_John Carradine', 'actor_Gérard Depardieu', 'Rating_Label'],\n",
       "      dtype='object')"
      ]
     },
     "execution_count": 46,
     "metadata": {},
     "output_type": "execute_result"
    }
   ],
   "source": [
    "#Load the data\n",
    "\n",
    "df_movies_cluster = pd.read_csv(\"classificationPreprocessingWithClustering.csv\")\n",
    "print(\"Length after import: \" + str(len(df_movies)))\n",
    "df_movies_cluster = df_movies_cluster.fillna(0)\n",
    "print(df_movies_cluster.head(5))\n",
    "df_movies_cluster.columns"
   ]
  },
  {
   "cell_type": "markdown",
   "metadata": {},
   "source": [
    "The Data set is similair, we just have and additional column usercluster. In order to have comparable results we remove the same columns as in the previous set:"
   ]
  },
  {
   "cell_type": "code",
   "execution_count": 47,
   "metadata": {},
   "outputs": [
    {
     "name": "stdout",
     "output_type": "stream",
     "text": [
      "118856\n",
      "[0 1 2 3 4 5 6 7 8]\n"
     ]
    },
    {
     "data": {
      "text/plain": [
       "Index(['usercluster', 'budget', 'runtime', 'Documentary', 'Foreign', 'Action',\n",
       "       'Horror', 'War', 'Romance', 'Adventure', 'Thriller', 'History', 'Drama',\n",
       "       'Family', 'Comedy', 'TV Movie', 'Crime', 'Western', 'Mystery',\n",
       "       'Fantasy', 'Animation', 'Music', 'Science Fiction',\n",
       "       'part_of_collection', 'hasHomepage', '18+', 'director',\n",
       "       'pcomp_Orion Pictures', 'pcomp_New Line Cinema', 'pcomp_Gaumont',\n",
       "       'pcomp_Twentieth Century Fox Film Corporation',\n",
       "       'pcomp_Walt Disney Productions', 'pcomp_Paramount Pictures',\n",
       "       'pcomp_Universal Pictures', 'pcomp_Village Roadshow Pictures',\n",
       "       'pcomp_StudioCanal', 'pcomp_Columbia Pictures Corporation',\n",
       "       'pcomp_Regency Enterprises', 'pcomp_Touchstone Pictures',\n",
       "       'pcomp_Mosfilm', 'pcomp_RKO Radio Pictures', 'pcomp_Miramax Films',\n",
       "       'pcomp_TriStar Pictures', 'pcomp_Columbia Pictures',\n",
       "       'pcomp_Toho Company', 'pcomp_Relativity Media',\n",
       "       'pcomp_Walt Disney Pictures', 'pcomp_BBC Films', 'pcomp_United Artists',\n",
       "       'actor_Bess Flowers', 'actor_John Wayne', 'actor_Donald Sutherland',\n",
       "       'actor_Robert De Niro', 'actor_Samuel L. Jackson', 'actor_Jackie Chan',\n",
       "       'actor_Michael Caine', 'actor_Christopher Lee', 'actor_Frank Welker',\n",
       "       'actor_John Carradine', 'actor_Gérard Depardieu', 'Rating_Label'],\n",
       "      dtype='object')"
      ]
     },
     "execution_count": 47,
     "metadata": {},
     "output_type": "execute_result"
    }
   ],
   "source": [
    "# drop columns that are not needed maybe implement feature selction...\n",
    "\n",
    "\n",
    "\n",
    "features_to_remove = ['actors', 'movieId', 'imdbId', 'id', '+18','spokenLanguages', 'rating_y'\n",
    "                     ]\n",
    "for i in features_to_remove:\n",
    "    if i in df_movies_cluster.columns:\n",
    "        df_movies_cluster = df_movies_cluster.drop(columns=i)\n",
    "print(len(df_movies_cluster))\n",
    "print(df_movies_cluster.usercluster.unique())\n",
    "df_movies_cluster.columns\n",
    "\n"
   ]
  },
  {
   "cell_type": "markdown",
   "metadata": {},
   "source": [
    "We create again a startified training and test data, as well as we split the target from the feature:"
   ]
  },
  {
   "cell_type": "code",
   "execution_count": 48,
   "metadata": {},
   "outputs": [
    {
     "name": "stdout",
     "output_type": "stream",
     "text": [
      "Train: 71313 Features and 71313 Ratings\n",
      "Test: 47543 Features and 47543 Ratings\n"
     ]
    },
    {
     "data": {
      "image/png": "[encoded data removed]",
      "text/plain": [
       "<Figure size 432x288 with 1 Axes>"
      ]
     },
     "metadata": {
      "needs_background": "light"
     },
     "output_type": "display_data"
    },
    {
     "data": {
      "image/png": "[encoded data removed]",
      "text/plain": [
       "<Figure size 432x288 with 1 Axes>"
      ]
     },
     "metadata": {
      "needs_background": "light"
     },
     "output_type": "display_data"
    }
   ],
   "source": [
    "# separate features and target variable\n",
    "rating = df_movies_cluster['Rating_Label'] # weight\n",
    "features = df_movies_cluster.drop(columns=['Rating_Label'])\n",
    "\n",
    "# encode labels\n",
    "lab_enc = LabelEncoder()\n",
    "rating = lab_enc.fit_transform(rating)\n",
    "features[\"director\"] = features[\"director\"].astype(str)\n",
    "features[\"director\"] = lab_enc.fit_transform(features[\"director\"])\n",
    "\n",
    "# create a train/test split\n",
    "features_train, features_test, rating_train, rating_test = train_test_split(features, rating, test_size=0.4, random_state=42, stratify=rating )\n",
    "\n",
    "print(\"Train: \" + str(len(features_train)) + \" Features and \" + str(len(rating_train)) + \" Ratings\")\n",
    "print(\"Test: \" + str(len(features_test)) + \" Features and \" + str(len(rating_test)) + \" Ratings\")\n",
    "\n",
    "class_dist = pd.Series(rating_train).value_counts()\n",
    "plt.bar(class_dist.index, class_dist)\n",
    "plt.ylabel(\"Frequency\")\n",
    "plt.show()\n",
    "\n",
    "# from imblearn.under_sampling import RandomUnderSampler\n",
    "\n",
    "# sampler = RandomUnderSampler()\n",
    "# features_balanced_train, rating_balanced_train = sampler.fit_resample(features_train, rating_train)\n",
    "\n",
    "# class_dist = pd.Series(rating_balanced_train).value_counts()\n",
    "# plt.bar(class_dist.index, class_dist)\n",
    "# plt.ylabel(\"Frequency\")\n",
    "# plt.show()\n",
    "\n",
    "\n",
    "from imblearn.over_sampling import RandomOverSampler\n",
    "\n",
    "sampler = RandomOverSampler()\n",
    "features_balanced_train, rating_balanced_train = sampler.fit_resample(features_train, rating_train)\n",
    "\n",
    "class_dist = pd.Series(rating_balanced_train).value_counts()\n",
    "plt.bar(class_dist.index, class_dist)\n",
    "plt.ylabel(\"Frequency\")\n",
    "plt.show()\n",
    "\n",
    "features_train = features_balanced_train\n",
    "rating_train = rating_balanced_train"
   ]
  },
  {
   "cell_type": "markdown",
   "metadata": {},
   "source": [
    "Now we do the initial evaluation on all the classifiers again, to see wether there is a difference"
   ]
  },
  {
   "cell_type": "code",
   "execution_count": 49,
   "metadata": {},
   "outputs": [
    {
     "name": "stderr",
     "output_type": "stream",
     "text": [
      "C:\\Users\\Stefan Sousa\\Anaconda3\\lib\\site-packages\\sklearn\\ensemble\\forest.py:245: FutureWarning: The default value of n_estimators will change from 10 in version 0.20 to 100 in 0.22.\n",
      "  \"10 in version 0.20 to 100 in 0.22.\", FutureWarning)\n"
     ]
    },
    {
     "name": "stdout",
     "output_type": "stream",
     "text": [
      "Scores Random Forest:\n",
      "Accuracy: 0.47887175819784195\n",
      "Precision: 0.47862274514716835\n",
      "Recall: 0.47887175819784195\n",
      "f1_score: 0.47827849047673837\n",
      "\n",
      "Scores knn:\n",
      "Accuracy: 0.4023515554340281\n",
      "Precision: 0.48920182932753076\n",
      "Recall: 0.4023515554340281\n",
      "f1_score: 0.4323128024619856\n",
      "\n",
      "Scores Decision Tree:\n",
      "Accuracy: 0.4431356876932461\n",
      "Precision: 0.4471697540492239\n",
      "Recall: 0.4431356876932461\n",
      "f1_score: 0.44507064060489815\n",
      "\n",
      "Scores Naive Bayes:\n",
      "Accuracy: 0.07018909197989188\n",
      "Precision: 0.36761273263846006\n",
      "Recall: 0.07018909197989188\n",
      "f1_score: 0.07369242993848471\n",
      "\n",
      "Scores SVC:\n",
      "Accuracy: 0.1383799928485792\n",
      "Precision: 0.35663098667677545\n",
      "Recall: 0.1383799928485792\n",
      "f1_score: 0.10211920697697123\n",
      "\n",
      "\n"
     ]
    },
    {
     "name": "stderr",
     "output_type": "stream",
     "text": [
      "C:\\Users\\Stefan Sousa\\Anaconda3\\lib\\site-packages\\sklearn\\svm\\base.py:929: ConvergenceWarning: Liblinear failed to converge, increase the number of iterations.\n",
      "  \"the number of iterations.\", ConvergenceWarning)\n"
     ]
    }
   ],
   "source": [
    "##### create and fit a RandomForestClassifier\n",
    "rf_reg = RandomForestClassifier()\n",
    "rf_reg.fit(features_train, rating_train)\n",
    "rating_pred_rf = rf_reg.predict(features_test)\n",
    "\n",
    "print(\"Scores Random Forest:\")\n",
    "#compute the confusion matrix\n",
    "# cnf_matrix = confusion_matrix(rating_test, rating_pred_rf)\n",
    "# print(cnf_matrix)\n",
    "\n",
    "#compute accuracy score\n",
    "print(\"Accuracy: {}\".format(accuracy_score(rating_test, rating_pred_rf)))\n",
    "print(\"Precision: {}\".format(precision_score(rating_test, rating_pred_rf, average='weighted')))\n",
    "print(\"Recall: {}\".format(recall_score(rating_test, rating_pred_rf, average='weighted')))\n",
    "print(\"f1_score: {}\".format(f1_score(rating_test, rating_pred_rf, average='weighted')))\n",
    "print()\n",
    "\n",
    "##### create and fit a KNN\n",
    "knn_reg = KNeighborsClassifier()\n",
    "knn_reg.fit(features_train, rating_train)\n",
    "rating_pred_knn = knn_reg.predict(features_test)\n",
    "\n",
    "print(\"Scores knn:\")\n",
    "# #compute the confusion matrix\n",
    "# cnf_matrix = confusion_matrix(rating_test, rating_pred_knn)\n",
    "# print(cnf_matrix)\n",
    "\n",
    "#compute accuracy score\n",
    "print(\"Accuracy: {}\".format(accuracy_score(rating_test, rating_pred_knn)))\n",
    "print(\"Precision: {}\".format(precision_score(rating_test, rating_pred_knn, average='weighted')))\n",
    "print(\"Recall: {}\".format(recall_score(rating_test, rating_pred_knn, average='weighted')))\n",
    "print(\"f1_score: {}\".format(f1_score(rating_test, rating_pred_knn, average='weighted')))\n",
    "print()\n",
    "\n",
    "##### create and fit a DecisionTreeClassifier\n",
    "dt_reg = DecisionTreeClassifier()\n",
    "dt_reg.fit(features_train, rating_train)\n",
    "rating_pred_dt = dt_reg.predict(features_test)\n",
    "\n",
    "print(\"Scores Decision Tree:\")\n",
    "#compute the confusion matrix\n",
    "# cnf_matrix = confusion_matrix(rating_test, rating_pred_dt)\n",
    "# print(cnf_matrix)\n",
    "\n",
    "#compute accuracy score\n",
    "print(\"Accuracy: {}\".format(accuracy_score(rating_test, rating_pred_dt)))\n",
    "print(\"Precision: {}\".format(precision_score(rating_test, rating_pred_dt, average='weighted')))\n",
    "print(\"Recall: {}\".format(recall_score(rating_test, rating_pred_dt, average='weighted')))\n",
    "print(\"f1_score: {}\".format(f1_score(rating_test, rating_pred_dt, average='weighted')))\n",
    "print()\n",
    "\n",
    "##### create and fit a GaussianNB\n",
    "nb_reg = GaussianNB()\n",
    "nb_reg.fit(features_train, rating_train)\n",
    "rating_pred_nb = nb_reg.predict(features_test)\n",
    "\n",
    "print(\"Scores Naive Bayes:\")\n",
    "# #compute the confusion matrix\n",
    "# cnf_matrix = confusion_matrix(rating_test, rating_pred_nb)\n",
    "# print(cnf_matrix)\n",
    "\n",
    "#compute accuracy score\n",
    "print(\"Accuracy: {}\".format(accuracy_score(rating_test, rating_pred_nb)))\n",
    "print(\"Precision: {}\".format(precision_score(rating_test, rating_pred_nb, average='weighted')))\n",
    "print(\"Recall: {}\".format(recall_score(rating_test, rating_pred_nb, average='weighted')))\n",
    "print(\"f1_score: {}\".format(f1_score(rating_test, rating_pred_nb, average='weighted')))\n",
    "print()\n",
    "\n",
    "##### create and fit a SVC\n",
    "svc_reg = LinearSVC()\n",
    "svc_reg.fit(features_train, rating_train)\n",
    "rating_pred_svc = svc_reg.predict(features_test)\n",
    "\n",
    "print(\"Scores SVC:\")\n",
    "#compute the confusion matrix\n",
    "# cnf_matrix = confusion_matrix(rating_test, rating_pred_svc)\n",
    "# print(cnf_matrix)\n",
    "\n",
    "#compute accuracy score\n",
    "print(\"Accuracy: {}\".format(accuracy_score(rating_test, rating_pred_svc)))\n",
    "print(\"Precision: {}\".format(precision_score(rating_test, rating_pred_svc, average='weighted')))\n",
    "print(\"Recall: {}\".format(recall_score(rating_test, rating_pred_svc, average='weighted')))\n",
    "print(\"f1_score: {}\".format(f1_score(rating_test, rating_pred_svc, average='weighted')))\n",
    "print()\n",
    "\n",
    "#plot the confusion matrix\n",
    "#plot_confusion_matrix(cnf_matrix, classes=lab_enc.classes_, title='KNN Classifier')\n",
    "\n",
    "print()\n",
    "\n",
    "# metrics.f1_score(y_test, y_pred, average='weighted', labels=np.unique(y_pred))\n",
    "\n"
   ]
  },
  {
   "cell_type": "markdown",
   "metadata": {},
   "source": [
    "First evaluation:\n",
    "We can see that the following algortihms got an improvement of accuracy:\n",
    "- Random forrest\n",
    "- KNN\n",
    "- Decision Tree\n",
    "\n",
    "The following are now worse:\n",
    "- Naive Bayes\n",
    "- SVC\n",
    "\n",
    "We will analyze now KNN and random Forrest again to see if we can tune the models"
   ]
  },
  {
   "cell_type": "code",
   "execution_count": 50,
   "metadata": {},
   "outputs": [
    {
     "name": "stdout",
     "output_type": "stream",
     "text": [
      "Scores knn:\n",
      "best score is 0.7945327698396727 with params {'n_neighbors': 2}\n"
     ]
    }
   ],
   "source": [
    "# create and fit a knn classifier\n",
    "knn_reg = KNeighborsClassifier()\n",
    "\n",
    "knn_reg.fit(features_train, rating_train)\n",
    "rating_pred_knn = knn_reg.predict(features_test)\n",
    "\n",
    "print(\"Scores knn:\")\n",
    "\n",
    "# specify the parameter grid\n",
    "parameters = {\n",
    "    'n_neighbors': range(2, 30)\n",
    "}\n",
    "\n",
    "\n",
    "# create the grid search instance\n",
    "grid_search_estimator = GridSearchCV(knn_reg, parameters, scoring='accuracy', cv=stratified_10_fold_cv, return_train_score=False)\n",
    "\n",
    "# run the grid search\n",
    "grid_search_estimator.fit(features_train, rating_train)\n",
    "\n",
    "# print the results of all hyper-parameter combinations\n",
    "results = pd.DataFrame(grid_search_estimator.cv_results_)\n",
    "#display(results)\n",
    "    \n",
    "# print the best parameter setting\n",
    "print(\"best score is {} with params {}\".format(grid_search_estimator.best_score_, grid_search_estimator.best_params_))"
   ]
  },
  {
   "cell_type": "code",
   "execution_count": 51,
   "metadata": {},
   "outputs": [
    {
     "name": "stdout",
     "output_type": "stream",
     "text": [
      "Scores knn optimized:\n",
      "Fold 0: Accuracy = 73.56136820925553%\n",
      "Fold 1: Accuracy = 73.25285043594903%\n",
      "Fold 2: Accuracy = 73.21260898725687%\n",
      "Fold 3: Accuracy = 72.76324614352784%\n",
      "Fold 4: Accuracy = 72.9419657832942%\n",
      "Fold 5: Accuracy = 73.52566252935256%\n",
      "Fold 6: Accuracy = 74.00872190540088%\n",
      "Fold 7: Accuracy = 73.45186179134518%\n",
      "Fold 8: Accuracy = 73.68668232136866%\n",
      "Fold 9: Accuracy = 73.72022811137202%\n",
      "Average Accuracy = 73.4125196218123%\n",
      "\n",
      "Accuracy on Test Data: 0.4023515554340281\n",
      "f1_score on Test Data: 0.4323128024619856\n",
      "[0 1 2 3 4]\n",
      "Confusion matrix, without normalization\n",
      "[[  102   348   556   341    85]\n",
      " [  263  1406  2132   882   166]\n",
      " [  533  2460 11188  4982   713]\n",
      " [  350  1180  5915  9725  1193]\n",
      " [   92   221   900  1464   346]]\n"
     ]
    },
    {
     "data": {
      "image/png": "[encoded data removed]",
      "text/plain": [
       "<Figure size 432x288 with 2 Axes>"
      ]
     },
     "metadata": {
      "needs_background": "light"
     },
     "output_type": "display_data"
    }
   ],
   "source": [
    "# do now Knn with k = 5 and applie 10 cross fold\n",
    "\n",
    "# create and fit a knn classifier\n",
    "knn_reg = KNeighborsClassifier(n_neighbors=5)\n",
    "\n",
    "knn_reg.fit(features_train, rating_train)\n",
    "rating_pred_knn = knn_reg.predict(features_test)\n",
    "\n",
    "print(\"Scores knn optimized:\")\n",
    "\n",
    "#compute accuracy score\n",
    "\n",
    "accuracy_knn = cross_val_score(knn_reg, features_train, rating_train, cv=stratified_10_fold_cv, scoring='accuracy')\n",
    "\n",
    "for i, acc in enumerate(accuracy_knn):\n",
    "    print(\"Fold {}: Accuracy = {}%\".format(i, acc * 100.0))\n",
    "\n",
    "print(\"Average Accuracy = {}%\".format(accuracy_knn.mean() * 100.0))\n",
    "print()\n",
    "print(\"Accuracy on Test Data: {}\".format(accuracy_score(rating_test, rating_pred_knn)))\n",
    "print(\"f1_score on Test Data: {}\".format(f1_score(rating_test, rating_pred_knn, average='weighted')))\n",
    "\n",
    "class_names = ['0','1','2','3','4','5']\n",
    "\n",
    "print(np.unique(ar=rating_train))\n",
    "np.set_printoptions(precision=2)\n",
    "\n",
    "# Plot non-normalized confusion matrix\n",
    "plot_confusion_matrix(rating_test, rating_pred_rf, classes=class_names,\n",
    "                      title='Confusion matrix, without normalization')\n",
    "\n",
    "\n",
    "plt.show()\n"
   ]
  },
  {
   "cell_type": "code",
   "execution_count": 52,
   "metadata": {},
   "outputs": [
    {
     "name": "stderr",
     "output_type": "stream",
     "text": [
      "C:\\Users\\Stefan Sousa\\Anaconda3\\lib\\site-packages\\sklearn\\ensemble\\forest.py:245: FutureWarning: The default value of n_estimators will change from 10 in version 0.20 to 100 in 0.22.\n",
      "  \"10 in version 0.20 to 100 in 0.22.\", FutureWarning)\n"
     ]
    },
    {
     "name": "stdout",
     "output_type": "stream",
     "text": [
      "best score is 0.8173676796136043 with params {'criterion': 'entropy', 'max_depth': None, 'max_features': 'log2'}\n",
      "\n"
     ]
    }
   ],
   "source": [
    "##### create and fit a RandomForestClassifier\n",
    "rf_reg = RandomForestClassifier()\n",
    "rf_reg.fit(features_train, rating_train)\n",
    "rating_pred_rf = rf_reg.predict(features_test)\n",
    "\n",
    "#Tuning of algorithm\n",
    "\n",
    "# specify the parameter grid\n",
    "parameters = {\n",
    "    'max_depth':[3,5,10,None],\n",
    "     'criterion':[\"gini\", \"entropy\"],\n",
    "     'max_features':[\"auto\",\"log2\",None]\n",
    "}\n",
    "\n",
    "\n",
    "# create the grid search instance\n",
    "grid_search_estimator = GridSearchCV(rf_reg, parameters, scoring='accuracy', cv=stratified_10_fold_cv, return_train_score=False)\n",
    "\n",
    "# run the grid search\n",
    "grid_search_estimator.fit(features_train, rating_train)\n",
    "\n",
    "# print the results of all hyper-parameter combinations\n",
    "results = pd.DataFrame(grid_search_estimator.cv_results_)\n",
    "#display(results)\n",
    "    \n",
    "# print the best parameter setting\n",
    "print(\"best score is {} with params {}\".format(grid_search_estimator.best_score_, grid_search_estimator.best_params_))\n",
    "print()\n"
   ]
  },
  {
   "cell_type": "code",
   "execution_count": 53,
   "metadata": {},
   "outputs": [
    {
     "name": "stderr",
     "output_type": "stream",
     "text": [
      "C:\\Users\\Stefan Sousa\\Anaconda3\\lib\\site-packages\\sklearn\\ensemble\\forest.py:245: FutureWarning: The default value of n_estimators will change from 10 in version 0.20 to 100 in 0.22.\n",
      "  \"10 in version 0.20 to 100 in 0.22.\", FutureWarning)\n"
     ]
    },
    {
     "name": "stdout",
     "output_type": "stream",
     "text": [
      "Scores Random Forrest optimized:\n",
      "Fold 0: Accuracy = 42.354124748490946%\n",
      "Fold 1: Accuracy = 42.07914151576123%\n",
      "Fold 2: Accuracy = 41.60965794768612%\n",
      "Fold 3: Accuracy = 42.98457411133467%\n",
      "Fold 4: Accuracy = 42.28111372022811%\n",
      "Fold 5: Accuracy = 42.80442804428044%\n",
      "Fold 6: Accuracy = 42.18047635021805%\n",
      "Fold 7: Accuracy = 42.2609862462261%\n",
      "Fold 8: Accuracy = 42.522643408252264%\n",
      "Fold 9: Accuracy = 42.2609862462261%\n",
      "Average Accuracy = 42.3338132338704%\n",
      "\n",
      "Accuracy on Test Data: 0.2775382285509959\n",
      "f1_score on Test Data: 0.31159571754886894\n",
      "[0 1 2 3 4]\n",
      "Confusion matrix, without normalization\n",
      "[[ 305  427  171  109  420]\n",
      " [ 991 1780  807  329  942]\n",
      " [2475 4874 5208 2538 4781]\n",
      " [1686 2188 3105 4137 7247]\n",
      " [ 337  247  204  470 1765]]\n"
     ]
    },
    {
     "data": {
      "image/png": "[encoded data removed]",
      "text/plain": [
       "<Figure size 432x288 with 2 Axes>"
      ]
     },
     "metadata": {
      "needs_background": "light"
     },
     "output_type": "display_data"
    }
   ],
   "source": [
    "# do now Random Forest with gini, maxdeepth 10 and applie 10 cross fold\n",
    "\n",
    "##### create and fit a RandomForestClassifier\n",
    "rf_reg = RandomForestClassifier(criterion='gini', max_depth=10, max_features=None)\n",
    "rf_reg.fit(features_train, rating_train)\n",
    "rating_pred_rf = rf_reg.predict(features_test)\n",
    "\n",
    "print(\"Scores Random Forrest optimized:\")\n",
    "\n",
    "\n",
    "#compute accuracy score\n",
    "\n",
    "accuracy_knn = cross_val_score(rf_reg, features_train, rating_train, cv=stratified_10_fold_cv, scoring='accuracy')\n",
    "\n",
    "for i, acc in enumerate(accuracy_knn):\n",
    "    print(\"Fold {}: Accuracy = {}%\".format(i, acc * 100.0))\n",
    "\n",
    "print(\"Average Accuracy = {}%\".format(accuracy_knn.mean() * 100.0))\n",
    "print()\n",
    "print(\"Accuracy on Test Data: {}\".format(accuracy_score(rating_test, rating_pred_rf)))\n",
    "print(\"f1_score on Test Data: {}\".format(f1_score(rating_test, rating_pred_rf, average='weighted')))\n",
    "\n",
    "class_names = ['0','1','2','3','4','5']\n",
    "\n",
    "print(np.unique(ar=rating_train))\n",
    "np.set_printoptions(precision=2)\n",
    "\n",
    "# Plot non-normalized confusion matrix\n",
    "plot_confusion_matrix(rating_test, rating_pred_rf, classes=class_names,\n",
    "                      title='Confusion matrix, without normalization')\n",
    "\n",
    "\n",
    "plt.show()"
   ]
  },
  {
   "cell_type": "code",
   "execution_count": null,
   "metadata": {},
   "outputs": [],
   "source": []
  }
 ],
 "metadata": {
  "kernelspec": {
   "display_name": "Python 3",
   "language": "python",
   "name": "python3"
  },
  "language_info": {
   "codemirror_mode": {
    "name": "ipython",
    "version": 3
   },
   "file_extension": ".py",
   "mimetype": "text/x-python",
   "name": "python",
   "nbconvert_exporter": "python",
   "pygments_lexer": "ipython3",
   "version": "3.7.4"
  }
 },
 "nbformat": 4,
 "nbformat_minor": 2
}
